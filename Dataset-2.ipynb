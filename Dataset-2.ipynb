{
 "cells": [
  {
   "cell_type": "markdown",
   "metadata": {},
   "source": [
    "# Import Data and Analysis"
   ]
  },
  {
   "cell_type": "code",
   "execution_count": 1,
   "metadata": {},
   "outputs": [],
   "source": [
    "import numpy as np\n",
    "import pandas as pd\n",
    "import re\n",
    "import seaborn as sns\n",
    "import matplotlib.pyplot as plt\n",
    "from sklearn.preprocessing import LabelEncoder\n",
    "from sklearn.model_selection import train_test_split\n",
    "from sklearn.pipeline import Pipeline\n",
    "from sklearn.preprocessing import MinMaxScaler\n",
    "from sklearn import svm\n",
    "from sklearn.model_selection import GridSearchCV\n",
    "from sklearn.metrics import confusion_matrix\n",
    "from xgboost import XGBClassifier\n",
    "from sklearn.linear_model import LogisticRegression\n",
    "from sklearn.metrics import f1_score"
   ]
  },
  {
   "cell_type": "code",
   "execution_count": 2,
   "metadata": {},
   "outputs": [],
   "source": [
    "df = pd.read_csv(\"ATP.csv\")"
   ]
  },
  {
   "cell_type": "code",
   "execution_count": 3,
   "metadata": {},
   "outputs": [
    {
     "data": {
      "text/html": [
       "<div>\n",
       "<style scoped>\n",
       "    .dataframe tbody tr th:only-of-type {\n",
       "        vertical-align: middle;\n",
       "    }\n",
       "\n",
       "    .dataframe tbody tr th {\n",
       "        vertical-align: top;\n",
       "    }\n",
       "\n",
       "    .dataframe thead th {\n",
       "        text-align: right;\n",
       "    }\n",
       "</style>\n",
       "<table border=\"1\" class=\"dataframe\">\n",
       "  <thead>\n",
       "    <tr style=\"text-align: right;\">\n",
       "      <th></th>\n",
       "      <th>best_of</th>\n",
       "      <th>draw_size</th>\n",
       "      <th>l_1stIn</th>\n",
       "      <th>l_1stWon</th>\n",
       "      <th>l_2ndWon</th>\n",
       "      <th>l_SvGms</th>\n",
       "      <th>l_ace</th>\n",
       "      <th>l_bpFaced</th>\n",
       "      <th>l_bpSaved</th>\n",
       "      <th>l_df</th>\n",
       "      <th>...</th>\n",
       "      <th>winner_age</th>\n",
       "      <th>winner_entry</th>\n",
       "      <th>winner_hand</th>\n",
       "      <th>winner_ht</th>\n",
       "      <th>winner_id</th>\n",
       "      <th>winner_ioc</th>\n",
       "      <th>winner_name</th>\n",
       "      <th>winner_rank</th>\n",
       "      <th>winner_rank_points</th>\n",
       "      <th>winner_seed</th>\n",
       "    </tr>\n",
       "  </thead>\n",
       "  <tbody>\n",
       "    <tr>\n",
       "      <th>169685</th>\n",
       "      <td>3</td>\n",
       "      <td>NaN</td>\n",
       "      <td>54.0</td>\n",
       "      <td>43.0</td>\n",
       "      <td>16.0</td>\n",
       "      <td>15.0</td>\n",
       "      <td>13.0</td>\n",
       "      <td>5.0</td>\n",
       "      <td>3.0</td>\n",
       "      <td>1.0</td>\n",
       "      <td>...</td>\n",
       "      <td>22.74</td>\n",
       "      <td>NaN</td>\n",
       "      <td>R</td>\n",
       "      <td>NaN</td>\n",
       "      <td>106426</td>\n",
       "      <td>CHI</td>\n",
       "      <td>Christian Garin</td>\n",
       "      <td>92.0</td>\n",
       "      <td>620.0</td>\n",
       "      <td>NaN</td>\n",
       "    </tr>\n",
       "    <tr>\n",
       "      <th>169686</th>\n",
       "      <td>3</td>\n",
       "      <td>NaN</td>\n",
       "      <td>23.0</td>\n",
       "      <td>12.0</td>\n",
       "      <td>5.0</td>\n",
       "      <td>7.0</td>\n",
       "      <td>0.0</td>\n",
       "      <td>8.0</td>\n",
       "      <td>3.0</td>\n",
       "      <td>2.0</td>\n",
       "      <td>...</td>\n",
       "      <td>20.18</td>\n",
       "      <td>NaN</td>\n",
       "      <td>R</td>\n",
       "      <td>NaN</td>\n",
       "      <td>134770</td>\n",
       "      <td>NOR</td>\n",
       "      <td>Casper Ruud</td>\n",
       "      <td>108.0</td>\n",
       "      <td>527.0</td>\n",
       "      <td>NaN</td>\n",
       "    </tr>\n",
       "    <tr>\n",
       "      <th>169687</th>\n",
       "      <td>3</td>\n",
       "      <td>NaN</td>\n",
       "      <td>56.0</td>\n",
       "      <td>39.0</td>\n",
       "      <td>13.0</td>\n",
       "      <td>12.0</td>\n",
       "      <td>5.0</td>\n",
       "      <td>5.0</td>\n",
       "      <td>3.0</td>\n",
       "      <td>1.0</td>\n",
       "      <td>...</td>\n",
       "      <td>28.78</td>\n",
       "      <td>NaN</td>\n",
       "      <td>L</td>\n",
       "      <td>185.0</td>\n",
       "      <td>105550</td>\n",
       "      <td>ARG</td>\n",
       "      <td>Guido Pella</td>\n",
       "      <td>48.0</td>\n",
       "      <td>975.0</td>\n",
       "      <td>3.0</td>\n",
       "    </tr>\n",
       "    <tr>\n",
       "      <th>169688</th>\n",
       "      <td>3</td>\n",
       "      <td>NaN</td>\n",
       "      <td>34.0</td>\n",
       "      <td>24.0</td>\n",
       "      <td>11.0</td>\n",
       "      <td>10.0</td>\n",
       "      <td>5.0</td>\n",
       "      <td>6.0</td>\n",
       "      <td>3.0</td>\n",
       "      <td>0.0</td>\n",
       "      <td>...</td>\n",
       "      <td>22.74</td>\n",
       "      <td>NaN</td>\n",
       "      <td>R</td>\n",
       "      <td>NaN</td>\n",
       "      <td>106426</td>\n",
       "      <td>CHI</td>\n",
       "      <td>Christian Garin</td>\n",
       "      <td>92.0</td>\n",
       "      <td>620.0</td>\n",
       "      <td>NaN</td>\n",
       "    </tr>\n",
       "    <tr>\n",
       "      <th>169689</th>\n",
       "      <td>3</td>\n",
       "      <td>NaN</td>\n",
       "      <td>35.0</td>\n",
       "      <td>26.0</td>\n",
       "      <td>9.0</td>\n",
       "      <td>11.0</td>\n",
       "      <td>5.0</td>\n",
       "      <td>7.0</td>\n",
       "      <td>3.0</td>\n",
       "      <td>4.0</td>\n",
       "      <td>...</td>\n",
       "      <td>28.78</td>\n",
       "      <td>NaN</td>\n",
       "      <td>L</td>\n",
       "      <td>185.0</td>\n",
       "      <td>105550</td>\n",
       "      <td>ARG</td>\n",
       "      <td>Guido Pella</td>\n",
       "      <td>48.0</td>\n",
       "      <td>975.0</td>\n",
       "      <td>3.0</td>\n",
       "    </tr>\n",
       "  </tbody>\n",
       "</table>\n",
       "<p>5 rows × 49 columns</p>\n",
       "</div>"
      ],
      "text/plain": [
       "        best_of  draw_size  l_1stIn  l_1stWon  l_2ndWon  l_SvGms  l_ace  \\\n",
       "169685        3        NaN     54.0      43.0      16.0     15.0   13.0   \n",
       "169686        3        NaN     23.0      12.0       5.0      7.0    0.0   \n",
       "169687        3        NaN     56.0      39.0      13.0     12.0    5.0   \n",
       "169688        3        NaN     34.0      24.0      11.0     10.0    5.0   \n",
       "169689        3        NaN     35.0      26.0       9.0     11.0    5.0   \n",
       "\n",
       "        l_bpFaced  l_bpSaved  l_df  ...  winner_age  winner_entry winner_hand  \\\n",
       "169685        5.0        3.0   1.0  ...       22.74           NaN           R   \n",
       "169686        8.0        3.0   2.0  ...       20.18           NaN           R   \n",
       "169687        5.0        3.0   1.0  ...       28.78           NaN           L   \n",
       "169688        6.0        3.0   0.0  ...       22.74           NaN           R   \n",
       "169689        7.0        3.0   4.0  ...       28.78           NaN           L   \n",
       "\n",
       "       winner_ht  winner_id  winner_ioc      winner_name winner_rank  \\\n",
       "169685       NaN     106426         CHI  Christian Garin        92.0   \n",
       "169686       NaN     134770         NOR      Casper Ruud       108.0   \n",
       "169687     185.0     105550         ARG      Guido Pella        48.0   \n",
       "169688       NaN     106426         CHI  Christian Garin        92.0   \n",
       "169689     185.0     105550         ARG      Guido Pella        48.0   \n",
       "\n",
       "        winner_rank_points  winner_seed  \n",
       "169685               620.0          NaN  \n",
       "169686               527.0          NaN  \n",
       "169687               975.0          3.0  \n",
       "169688               620.0          NaN  \n",
       "169689               975.0          3.0  \n",
       "\n",
       "[5 rows x 49 columns]"
      ]
     },
     "execution_count": 3,
     "metadata": {},
     "output_type": "execute_result"
    }
   ],
   "source": [
    "df.tail()"
   ]
  },
  {
   "cell_type": "code",
   "execution_count": 4,
   "metadata": {},
   "outputs": [
    {
     "data": {
      "text/plain": [
       "(169690, 49)"
      ]
     },
     "execution_count": 4,
     "metadata": {},
     "output_type": "execute_result"
    }
   ],
   "source": [
    "df.shape"
   ]
  },
  {
   "cell_type": "code",
   "execution_count": 5,
   "metadata": {},
   "outputs": [
    {
     "data": {
      "text/plain": [
       "Hard      67128\n",
       "Clay      61368\n",
       "Carpet    19861\n",
       "Grass     18714\n",
       "None         80\n",
       "Name: surface, dtype: int64"
      ]
     },
     "execution_count": 5,
     "metadata": {},
     "output_type": "execute_result"
    }
   ],
   "source": [
    "df['surface'].value_counts()"
   ]
  },
  {
   "cell_type": "markdown",
   "metadata": {},
   "source": [
    "# EDA"
   ]
  },
  {
   "cell_type": "code",
   "execution_count": 6,
   "metadata": {},
   "outputs": [
    {
     "data": {
      "text/plain": [
       "best_of                    0\n",
       "draw_size             168458\n",
       "l_1stIn                86275\n",
       "l_1stWon               86275\n",
       "l_2ndWon               86275\n",
       "l_SvGms                86275\n",
       "l_ace                  86275\n",
       "l_bpFaced              86275\n",
       "l_bpSaved              86275\n",
       "l_df                   86275\n",
       "l_svpt                 86275\n",
       "loser_age               4990\n",
       "loser_entry           144351\n",
       "loser_hand                85\n",
       "loser_ht               30638\n",
       "loser_id                   0\n",
       "loser_ioc                  0\n",
       "loser_name                 0\n",
       "loser_rank             23781\n",
       "loser_rank_points      76665\n",
       "loser_seed            136837\n",
       "match_num                  0\n",
       "minutes                87587\n",
       "round                      0\n",
       "score                    176\n",
       "surface                 2539\n",
       "tourney_date               0\n",
       "tourney_id                 0\n",
       "tourney_level              0\n",
       "tourney_name               0\n",
       "w_1stIn                86275\n",
       "w_1stWon               86275\n",
       "w_2ndWon               86275\n",
       "w_SvGms                86275\n",
       "w_ace                  86275\n",
       "w_bpFaced              86275\n",
       "w_bpSaved              86275\n",
       "w_df                   86275\n",
       "w_svpt                 86275\n",
       "winner_age              1761\n",
       "winner_entry          154942\n",
       "winner_hand               39\n",
       "winner_ht              18806\n",
       "winner_id                  0\n",
       "winner_ioc                 0\n",
       "winner_name                0\n",
       "winner_rank            19917\n",
       "winner_rank_points     75399\n",
       "winner_seed           104395\n",
       "dtype: int64"
      ]
     },
     "execution_count": 6,
     "metadata": {},
     "output_type": "execute_result"
    }
   ],
   "source": [
    "df.apply(lambda x: sum(x.isnull()),axis=0) # check if missing values are there"
   ]
  },
  {
   "cell_type": "code",
   "execution_count": 7,
   "metadata": {},
   "outputs": [
    {
     "data": {
      "text/plain": [
       "<matplotlib.axes._subplots.AxesSubplot at 0x227d13ff898>"
      ]
     },
     "execution_count": 7,
     "metadata": {},
     "output_type": "execute_result"
    },
    {
     "data": {
      "image/png": "[encoded data removed]",
      "text/plain": [
       "<Figure size 432x288 with 1 Axes>"
      ]
     },
     "metadata": {
      "needs_background": "light"
     },
     "output_type": "display_data"
    }
   ],
   "source": [
    "import seaborn as sns\n",
    "sns.heatmap(df.isnull(), cbar=False)"
   ]
  },
  {
   "cell_type": "code",
   "execution_count": 8,
   "metadata": {},
   "outputs": [
    {
     "data": {
      "text/plain": [
       "best_of               169690\n",
       "draw_size               1232\n",
       "l_1stIn                83415\n",
       "l_1stWon               83415\n",
       "l_2ndWon               83415\n",
       "l_SvGms                83415\n",
       "l_ace                  83415\n",
       "l_bpFaced              83415\n",
       "l_bpSaved              83415\n",
       "l_df                   83415\n",
       "l_svpt                 83415\n",
       "loser_age             164700\n",
       "loser_entry            25339\n",
       "loser_hand            169605\n",
       "loser_ht              139052\n",
       "loser_id              169690\n",
       "loser_ioc             169690\n",
       "loser_name            169690\n",
       "loser_rank            145909\n",
       "loser_rank_points      93025\n",
       "loser_seed             32853\n",
       "match_num             169690\n",
       "minutes                82103\n",
       "round                 169690\n",
       "score                 169514\n",
       "surface               167151\n",
       "tourney_date          169690\n",
       "tourney_id            169690\n",
       "tourney_level         169690\n",
       "tourney_name          169690\n",
       "w_1stIn                83415\n",
       "w_1stWon               83415\n",
       "w_2ndWon               83415\n",
       "w_SvGms                83415\n",
       "w_ace                  83415\n",
       "w_bpFaced              83415\n",
       "w_bpSaved              83415\n",
       "w_df                   83415\n",
       "w_svpt                 83415\n",
       "winner_age            167929\n",
       "winner_entry           14748\n",
       "winner_hand           169651\n",
       "winner_ht             150884\n",
       "winner_id             169690\n",
       "winner_ioc            169690\n",
       "winner_name           169690\n",
       "winner_rank           149773\n",
       "winner_rank_points     94291\n",
       "winner_seed            65295\n",
       "dtype: int64"
      ]
     },
     "execution_count": 8,
     "metadata": {},
     "output_type": "execute_result"
    }
   ],
   "source": [
    "df.count()"
   ]
  },
  {
   "cell_type": "code",
   "execution_count": 9,
   "metadata": {},
   "outputs": [
    {
     "data": {
      "text/plain": [
       "176"
      ]
     },
     "execution_count": 9,
     "metadata": {},
     "output_type": "execute_result"
    }
   ],
   "source": [
    "df[\"score\"].isna().sum()"
   ]
  },
  {
   "cell_type": "code",
   "execution_count": 10,
   "metadata": {},
   "outputs": [
    {
     "data": {
      "text/plain": [
       "(168516, 49)"
      ]
     },
     "metadata": {},
     "output_type": "display_data"
    }
   ],
   "source": [
    "#We can delete the row with NaN score (0.1% of data)\n",
    "#we will drop the rows with \"W/O\" score (0.43 % of data)\n",
    "data_drop_nanScore = df.dropna(axis=0, subset=[\"score\"])\n",
    "data_drop_nanScore = data_drop_nanScore[data_drop_nanScore[\"score\"] != 'W/O']\n",
    "data_drop_nanScore = data_drop_nanScore[data_drop_nanScore[\"score\"] != ' W/O']\n",
    "data_drop_nanScore = data_drop_nanScore[data_drop_nanScore[\"score\"] != 'DEF']\n",
    "data_drop_nanScore = data_drop_nanScore[data_drop_nanScore[\"score\"] != 'In Progress']\n",
    "data_drop_nanScore = data_drop_nanScore[data_drop_nanScore[\"score\"] != 'Walkover']\n",
    "# we observed some scores having weird format (example 6-Feb)\n",
    "#This line below is to drop them\n",
    "expression = re.compile(\"\\d+-[a-zA-Z]+\")\n",
    "weird_score = [x for x in data_drop_nanScore.score.values.tolist() if re.search(expression, x)]\n",
    "for s in weird_score:\n",
    "    data_drop_nanScore = data_drop_nanScore[data_drop_nanScore[\"score\"] != s]  \n",
    "\n",
    "# We kept ~99% of the initial data\n",
    "display(data_drop_nanScore.shape)"
   ]
  },
  {
   "cell_type": "code",
   "execution_count": 11,
   "metadata": {},
   "outputs": [
    {
     "name": "stdout",
     "output_type": "stream",
     "text": [
      "<class 'pandas.core.frame.DataFrame'>\n",
      "Int64Index: 168516 entries, 0 to 169689\n",
      "Data columns (total 49 columns):\n",
      "best_of               168516 non-null int64\n",
      "draw_size             1163 non-null float64\n",
      "l_1stIn               83410 non-null float64\n",
      "l_1stWon              83410 non-null float64\n",
      "l_2ndWon              83410 non-null float64\n",
      "l_SvGms               83410 non-null float64\n",
      "l_ace                 83410 non-null float64\n",
      "l_bpFaced             83410 non-null float64\n",
      "l_bpSaved             83410 non-null float64\n",
      "l_df                  83410 non-null float64\n",
      "l_svpt                83410 non-null float64\n",
      "loser_age             163654 non-null float64\n",
      "loser_entry           25303 non-null object\n",
      "loser_hand            168432 non-null object\n",
      "loser_ht              138270 non-null float64\n",
      "loser_id              168516 non-null int64\n",
      "loser_ioc             168516 non-null object\n",
      "loser_name            168516 non-null object\n",
      "loser_rank            145151 non-null float64\n",
      "loser_rank_points     92610 non-null float64\n",
      "loser_seed            32510 non-null float64\n",
      "match_num             168516 non-null int64\n",
      "minutes               82096 non-null float64\n",
      "round                 168516 non-null object\n",
      "score                 168516 non-null object\n",
      "surface               166014 non-null object\n",
      "tourney_date          168516 non-null int64\n",
      "tourney_id            168516 non-null object\n",
      "tourney_level         168516 non-null object\n",
      "tourney_name          168516 non-null object\n",
      "w_1stIn               83410 non-null float64\n",
      "w_1stWon              83410 non-null float64\n",
      "w_2ndWon              83410 non-null float64\n",
      "w_SvGms               83410 non-null float64\n",
      "w_ace                 83410 non-null float64\n",
      "w_bpFaced             83410 non-null float64\n",
      "w_bpSaved             83410 non-null float64\n",
      "w_df                  83410 non-null float64\n",
      "w_svpt                83410 non-null float64\n",
      "winner_age            166827 non-null float64\n",
      "winner_entry          14686 non-null object\n",
      "winner_hand           168477 non-null object\n",
      "winner_ht             150029 non-null float64\n",
      "winner_id             168516 non-null int64\n",
      "winner_ioc            168516 non-null object\n",
      "winner_name           168516 non-null object\n",
      "winner_rank           149012 non-null float64\n",
      "winner_rank_points    93874 non-null float64\n",
      "winner_seed           64915 non-null float64\n",
      "dtypes: float64(30), int64(5), object(14)\n",
      "memory usage: 64.3+ MB\n"
     ]
    }
   ],
   "source": [
    "data_drop_nanScore.info()"
   ]
  },
  {
   "cell_type": "code",
   "execution_count": 12,
   "metadata": {},
   "outputs": [],
   "source": [
    "df = data_drop_nanScore.dropna(axis=0, subset=['l_1stIn','l_1stWon','l_2ndWon','l_SvGms','l_ace','l_bpFaced','l_bpSaved','l_df','l_svpt','w_1stIn','w_1stWon','w_2ndWon','w_SvGms','w_ace','w_bpFaced','w_bpSaved','w_df','w_svpt'])"
   ]
  },
  {
   "cell_type": "code",
   "execution_count": 13,
   "metadata": {},
   "outputs": [
    {
     "name": "stdout",
     "output_type": "stream",
     "text": [
      "<class 'pandas.core.frame.DataFrame'>\n",
      "Int64Index: 83410 entries, 76801 to 169689\n",
      "Data columns (total 49 columns):\n",
      "best_of               83410 non-null int64\n",
      "draw_size             0 non-null float64\n",
      "l_1stIn               83410 non-null float64\n",
      "l_1stWon              83410 non-null float64\n",
      "l_2ndWon              83410 non-null float64\n",
      "l_SvGms               83410 non-null float64\n",
      "l_ace                 83410 non-null float64\n",
      "l_bpFaced             83410 non-null float64\n",
      "l_bpSaved             83410 non-null float64\n",
      "l_df                  83410 non-null float64\n",
      "l_svpt                83410 non-null float64\n",
      "loser_age             83360 non-null float64\n",
      "loser_entry           17954 non-null object\n",
      "loser_hand            83382 non-null object\n",
      "loser_ht              78691 non-null float64\n",
      "loser_id              83410 non-null int64\n",
      "loser_ioc             83410 non-null object\n",
      "loser_name            83410 non-null object\n",
      "loser_rank            83049 non-null float64\n",
      "loser_rank_points     82108 non-null float64\n",
      "loser_seed            19996 non-null float64\n",
      "match_num             83410 non-null int64\n",
      "minutes               82084 non-null float64\n",
      "round                 83410 non-null object\n",
      "score                 83410 non-null object\n",
      "surface               83410 non-null object\n",
      "tourney_date          83410 non-null int64\n",
      "tourney_id            83410 non-null object\n",
      "tourney_level         83410 non-null object\n",
      "tourney_name          83410 non-null object\n",
      "w_1stIn               83410 non-null float64\n",
      "w_1stWon              83410 non-null float64\n",
      "w_2ndWon              83410 non-null float64\n",
      "w_SvGms               83410 non-null float64\n",
      "w_ace                 83410 non-null float64\n",
      "w_bpFaced             83410 non-null float64\n",
      "w_bpSaved             83410 non-null float64\n",
      "w_df                  83410 non-null float64\n",
      "w_svpt                83410 non-null float64\n",
      "winner_age            83406 non-null float64\n",
      "winner_entry          10762 non-null object\n",
      "winner_hand           83402 non-null object\n",
      "winner_ht             80711 non-null float64\n",
      "winner_id             83410 non-null int64\n",
      "winner_ioc            83410 non-null object\n",
      "winner_name           83410 non-null object\n",
      "winner_rank           83303 non-null float64\n",
      "winner_rank_points    82352 non-null float64\n",
      "winner_seed           36935 non-null float64\n",
      "dtypes: float64(30), int64(5), object(14)\n",
      "memory usage: 31.8+ MB\n"
     ]
    }
   ],
   "source": [
    "df.info()"
   ]
  },
  {
   "cell_type": "markdown",
   "metadata": {},
   "source": [
    "### Draw_Size"
   ]
  },
  {
   "cell_type": "code",
   "execution_count": 14,
   "metadata": {},
   "outputs": [
    {
     "name": "stderr",
     "output_type": "stream",
     "text": [
      "C:\\Users\\Neil\\Anaconda3\\lib\\site-packages\\pandas\\core\\frame.py:4117: SettingWithCopyWarning: \n",
      "A value is trying to be set on a copy of a slice from a DataFrame\n",
      "\n",
      "See the caveats in the documentation: http://pandas.pydata.org/pandas-docs/stable/user_guide/indexing.html#returning-a-view-versus-a-copy\n",
      "  errors=errors,\n"
     ]
    }
   ],
   "source": [
    "df.drop('draw_size', axis=1, inplace=True)"
   ]
  },
  {
   "cell_type": "markdown",
   "metadata": {},
   "source": [
    "## Loser player columns"
   ]
  },
  {
   "cell_type": "markdown",
   "metadata": {},
   "source": [
    "### Loser_Age"
   ]
  },
  {
   "cell_type": "code",
   "execution_count": 15,
   "metadata": {},
   "outputs": [
    {
     "name": "stderr",
     "output_type": "stream",
     "text": [
      "C:\\Users\\Neil\\Anaconda3\\lib\\site-packages\\ipykernel_launcher.py:11: SettingWithCopyWarning: \n",
      "A value is trying to be set on a copy of a slice from a DataFrame.\n",
      "Try using .loc[row_indexer,col_indexer] = value instead\n",
      "\n",
      "See the caveats in the documentation: http://pandas.pydata.org/pandas-docs/stable/user_guide/indexing.html#returning-a-view-versus-a-copy\n",
      "  # This is added back by InteractiveShellApp.init_path()\n"
     ]
    },
    {
     "data": {
      "text/plain": [
       "Text(0.5, 1.0, 'loser_age distribution')"
      ]
     },
     "execution_count": 15,
     "metadata": {},
     "output_type": "execute_result"
    },
    {
     "data": {
      "image/png": "[encoded data removed]",
      "text/plain": [
       "<Figure size 720x720 with 1 Axes>"
      ]
     },
     "metadata": {
      "needs_background": "light"
     },
     "output_type": "display_data"
    }
   ],
   "source": [
    "#loser_age: The best solutipon is to fill NaN values with the median.\n",
    "# The column distribution agree with our choice\n",
    "# loser_age before modification\n",
    "n_Nan_l_age = df.dropna(axis=0, subset=[\"loser_age\"])[\"loser_age\"]\n",
    "plt.figure(figsize=(10,10))\n",
    "sns.distplot(n_Nan_l_age)\n",
    "\n",
    "# Fill Nan with the median\n",
    "median_loser_age = n_Nan_l_age.median()\n",
    "df[\"loser_age\"] = df[\"loser_age\"]\\\n",
    "                                          .fillna(median_loser_age)\n",
    "\n",
    "# loser_age after modification (fillna)\n",
    "\n",
    "sns.distplot(df[\"loser_age\"])\n",
    "plt.legend(labels=['Before fillna','after fillna'])\n",
    "plt.title(\"loser_age distribution\")"
   ]
  },
  {
   "cell_type": "markdown",
   "metadata": {},
   "source": [
    "### loser_entry"
   ]
  },
  {
   "cell_type": "code",
   "execution_count": 16,
   "metadata": {},
   "outputs": [],
   "source": [
    "df = df.drop(labels=[\"loser_entry\"], axis=1)"
   ]
  },
  {
   "cell_type": "markdown",
   "metadata": {},
   "source": [
    "### loser_hand"
   ]
  },
  {
   "cell_type": "code",
   "execution_count": 17,
   "metadata": {},
   "outputs": [
    {
     "data": {
      "text/plain": [
       "R    70577\n",
       "L    12360\n",
       "U      445\n",
       "Name: loser_hand, dtype: int64"
      ]
     },
     "execution_count": 17,
     "metadata": {},
     "output_type": "execute_result"
    }
   ],
   "source": [
    "df[\"loser_hand\"].value_counts()"
   ]
  },
  {
   "cell_type": "code",
   "execution_count": 18,
   "metadata": {},
   "outputs": [
    {
     "name": "stdout",
     "output_type": "stream",
     "text": [
      "['Adam Hornby' 'Jose Olivares' 'Bruno Britez'\n",
      " 'Hernando Jose Escurra Isnardi' 'Alex Diaz' 'Sebastian Arcila'\n",
      " 'Sebastian Quiros' 'Alex Knaff' 'Dac Tien Nguyen' 'Illia Biloborodko'\n",
      " 'Matthew Foster Estwick' 'Xavier Lawrence' 'Minjong Park'\n",
      " 'Ainius Sabaliauskas' 'Ignacio Garcia' 'Christophe Tholl'\n",
      " 'Yasitha De Silva']\n"
     ]
    }
   ],
   "source": [
    "# Get the loser with nan loser_hand\n",
    "nan_hand_names = df[df[\"loser_hand\"]\\\n",
    "                            .isnull()][\"loser_name\"].unique()\n",
    "print(nan_hand_names)\n",
    "\n",
    "# See if the loser_hand is defined for another game\n",
    "# when the player is a loser\n",
    "for name in nan_hand_names:\n",
    "    hands = df[df[\"loser_name\"] == name][\"loser_hand\"]\n",
    "    if hands.isnull().all() == False:\n",
    "        print(\"loser_hand founded for loser_name\" + name)\n",
    "# when the player is a winner\n",
    "for name in nan_hand_names:\n",
    "    hands = df[df[\"winner_name\"] == name][\"winner_hand\"]\n",
    "    if hands.isnull().all() == False:\n",
    "        print(\"loser_hand founded for winner_name\" + name)"
   ]
  },
  {
   "cell_type": "code",
   "execution_count": 19,
   "metadata": {},
   "outputs": [],
   "source": [
    "max_loser_hand = df[\"loser_hand\"].value_counts().idxmax()\n",
    "df[\"loser_hand\"] = df[\"loser_hand\"]\\\n",
    "                                .fillna(max_loser_hand)"
   ]
  },
  {
   "cell_type": "code",
   "execution_count": 20,
   "metadata": {},
   "outputs": [
    {
     "data": {
      "text/plain": [
       "R    70605\n",
       "L    12360\n",
       "U      445\n",
       "Name: loser_hand, dtype: int64"
      ]
     },
     "execution_count": 20,
     "metadata": {},
     "output_type": "execute_result"
    }
   ],
   "source": [
    "df[\"loser_hand\"].value_counts()"
   ]
  },
  {
   "cell_type": "markdown",
   "metadata": {},
   "source": [
    "### loser_ht"
   ]
  },
  {
   "cell_type": "code",
   "execution_count": 21,
   "metadata": {},
   "outputs": [
    {
     "data": {
      "text/plain": [
       "<matplotlib.axes._subplots.AxesSubplot at 0x227d25fc630>"
      ]
     },
     "execution_count": 21,
     "metadata": {},
     "output_type": "execute_result"
    },
    {
     "data": {
      "image/png": "[encoded data removed]",
      "text/plain": [
       "<Figure size 720x720 with 1 Axes>"
      ]
     },
     "metadata": {
      "needs_background": "light"
     },
     "output_type": "display_data"
    }
   ],
   "source": [
    "n_Nan_l_ht = df.dropna(axis=0, subset=[\"loser_ht\"])[\"loser_ht\"]\n",
    "plt.figure(figsize=(10,10))\n",
    "sns.distplot(n_Nan_l_ht)"
   ]
  },
  {
   "cell_type": "code",
   "execution_count": 22,
   "metadata": {},
   "outputs": [
    {
     "data": {
      "text/plain": [
       "count    78691.000000\n",
       "mean       184.954162\n",
       "std          6.596895\n",
       "min        160.000000\n",
       "25%        180.000000\n",
       "50%        185.000000\n",
       "75%        188.000000\n",
       "max        208.000000\n",
       "Name: loser_ht, dtype: float64"
      ]
     },
     "execution_count": 22,
     "metadata": {},
     "output_type": "execute_result"
    }
   ],
   "source": [
    "df.describe()[\"loser_ht\"]"
   ]
  },
  {
   "cell_type": "code",
   "execution_count": 23,
   "metadata": {},
   "outputs": [
    {
     "name": "stdout",
     "output_type": "stream",
     "text": [
      "['John Arbanas' 'Roberto Raffa' 'Sebastian Soresini'\n",
      " 'Toshihisa Tsuchihashi' 'Kentaro Masuda' 'Jae Sik Kim' 'Han Cheol Shin'\n",
      " 'Seung Ho Ji' 'Emanuel Rasberger' 'Jose Antonio Fernandez' 'Silvio Moine'\n",
      " 'Bruce Steel' 'Ian Aler' 'Reinhard Wawra' 'Lukas Thomas' 'Milan Trneny'\n",
      " 'Phillip Williamson' 'Bertrand Madsen' 'William Kyriakos' 'Rodrigo Faria'\n",
      " 'Miguel Merz' 'Martin Schaffl' 'Milen Velev' 'Tasos Bavelas'\n",
      " 'Ohad Weinberg' 'Hidehiko Tanizawa' 'Ryuso Tsujino' 'Serge Soulie'\n",
      " 'Sergej Skakun' 'Axel Finnberg' 'Juan Pablo Etchecoin' 'Hyeong Keun Song'\n",
      " 'Francesco Michelotti' 'Jordi Mas' 'Alexander Windisch' 'Dick Bosse'\n",
      " 'Roberto Alvarez' 'Thierry Van Den Daele' 'Jorg Schors' 'Andreas Fikas'\n",
      " 'Talito Corrales' 'Gil Kovalski' 'Hideki Kaneko' 'Fabien Cousin'\n",
      " 'Cheng Fong Chang' 'Chih Jung Chen' 'Yu Hui Lien' 'Andrew Mclean'\n",
      " 'Ashley Naumann' 'Michael Shyjan' 'Ralph Kok' 'Juan Luis Tati Rascon'\n",
      " 'Christian Camradt' 'Mohamed Ridaoui' 'Guillaume Marx' 'Rene Nicklisch'\n",
      " 'Sean Cole' 'Patrik Langvardt' 'Sergio Gomez Barrio' 'John Roddick'\n",
      " 'Nicolas Kischkewitz' 'Rainer Falenti' 'Tony Bujan' 'Robert Kroll'\n",
      " 'Thomas Prerovsky' 'Sebastien Hette' 'Stephane Andriolo' 'Ryan Blake'\n",
      " 'Jonathan Leach' 'Dusan Prchlik' 'Toshitsugu Mori' 'Jong Woong Yoon'\n",
      " 'Alois Beust' 'Nick Gould' 'Christian Hill' 'Bill Barber'\n",
      " 'Stephane Matheu' 'Robert Eriksson' 'Jaime Cortes' 'Gilles Bastie'\n",
      " 'Pantelis Moschoutis' 'Solon Peppas' 'Radovan Chrz' 'Otakar Jurecka'\n",
      " 'Glenn Wilson' 'Tetsuya Chaen' 'Scott Clark' 'Marco Cacopardo'\n",
      " 'Mario Rincon' 'Howard Joffe' 'Kotaro Miyachi' 'Jan Weinzierl'\n",
      " 'Colin Beecher' 'Iztok Bozic' 'Gary Henderson' 'Rob Givone'\n",
      " 'Steve Herdoiza' 'Daniele Balducci' 'Goran Oresic' 'Tomislav Prpic'\n",
      " 'Remus Farcas' 'Selvam Veerasingam' 'Sultan Khalfan'\n",
      " 'Andrian Raturandang' 'Sulistyo Wibowo' 'Adolf Musil' 'Thomas Andersen'\n",
      " 'Artemi Tchernenko' 'Alexander Shvec' 'John Hui' 'Srinath Prahlad'\n",
      " 'Sandeep Kirtane' 'Sang Hoon Lee' 'Min Kyu Han'\n",
      " 'Nasser Ghanim Al Khulaifi' 'Alexandre Strambini' 'Dan Cantwell'\n",
      " 'Marcus Hilpert' 'Jocelyn Robichaud' 'Nir Welgreen' 'Filippo Veglio'\n",
      " 'Philippe Moggio' 'Carlos Drada' 'Federico Dondo' 'Tanakorn Srichaphan'\n",
      " 'Toby Mitchell' 'Johan Hede' 'Alexei Belov' 'Igor Tchelychev'\n",
      " 'Larbi Rharnit' 'Mounir El Aarej' 'Susheel Narla' 'Bruno Fragoso'\n",
      " 'Melvin Tong' 'David Salvador Estepa' 'Miguel Pastura' 'Franz Stauder'\n",
      " 'Nick Weal' 'Sergi Duran' 'Henrik Andersson' 'Reed Cordish' 'Elia Grossi'\n",
      " 'Rodolfo Rake' 'Diego Lozano' 'Julien Chauvin' 'Ruben Fernandez'\n",
      " 'Dmitri Tomashevich' 'Abdul Hamid Makhkamov' 'Regis Lavergne'\n",
      " 'Marco Osorio' 'Eduardo Rincon' 'Teo Susnjak' 'Jurek Stasiak'\n",
      " 'Kirill Ivanov Smolensky' 'Thomas Messmer' 'Jonathan Printzlau'\n",
      " 'Wing Luen Wong' 'Diego Hipperdinger' 'Kalle Flygt' 'Tapio Nurminen'\n",
      " 'Steven Randjelovic' 'Paul Harsanyi' 'Boris Bachert' 'Andres Schneiter'\n",
      " 'Tomas Catar' 'Pietro Angelini' 'Andrew Park' 'Nikos Rovas'\n",
      " 'Timur Ganiev' 'Yu Zhang' 'Yu Zheng' 'Ricardo Schlachter'\n",
      " 'Sergei Petrouchevsky' 'Igor Kornienko' 'Talal Ouahabi' 'Pedro Leao'\n",
      " 'Radovan Svetlik' 'Florian Allgauer' 'Markus Menzler' 'Tom Spinks'\n",
      " 'Johan Ortegren' 'Cedric Kauffmann' 'Thomas Blake' 'Ivan Beros'\n",
      " 'Jan Boruszewski' 'Patrick Osnua' 'Yu Jr Wang' 'Ben Qiang Zhu'\n",
      " 'Artem Derepasko' 'Dejan Petrovic' 'Sunil Kumar' 'Yaoki Ishii'\n",
      " 'Levar Harper Griffith' 'Alex Witt' 'Timo Fleischfresser'\n",
      " 'Dennis Peschek' 'Ivan Vajda' 'Andreas Fasching' 'Jakub Herm Zahlava'\n",
      " 'Michihisa Onoda' 'Oliver Freelove' 'Lee Childs' 'Jonas Froberg'\n",
      " 'Fazaluddin Syed' 'Matthew Breen' 'Helge Koll' 'Patricio Arquez'\n",
      " 'Omar Awadhy' 'Tiago Sousa' 'Krystian Pfeiffer' 'Shan Jiang'\n",
      " 'Takahiro Terachi' 'Javier Garcia Sintes' 'Radim Zitko' 'Hiroki Kondo'\n",
      " 'Thomas Dupre' 'Daniel Willman' 'Guillermo Hormazabal' 'Leonardo Olguin'\n",
      " 'Nuno Matias' 'Mariano Albert Ferrando' 'Adam Kennedy' 'Radoslaw Nijaki'\n",
      " 'Bartlomiej Dabrowski' 'Emin Agaev' 'Radoslav Lukaev' 'Slimane Saoudi'\n",
      " 'Matias Boeker' 'Maximilian Abel' 'Joji Miyao' 'Doug Bohaboy' 'Simon Rea'\n",
      " 'Julio Peralta' 'Miguel Gallardo Valles' 'Diogo Rocha' 'Helder Lopes'\n",
      " 'Jonathan Marray' 'Matthew Behrmann' 'Igor Levine' 'Robert Yim'\n",
      " 'Andrew Carlson' 'Michael Quintero' 'Vadim Davletshin' 'Pedro Braga'\n",
      " 'Mohammad Ghareeb' 'Gustavo Marcaccio' 'Leonardo Tavares'\n",
      " 'Israel Matos Gil' 'Guillem Burniol' 'Mehdi Ziadi' 'Ian Flanagan'\n",
      " 'Sebastian Fitz' 'Mathias Hellstrom' 'Ervin Eleskovic'\n",
      " 'Nick Van Der Meer' 'Sebastian Rieschick' 'Daniel Yoo' 'Hao Lu'\n",
      " 'Adrian Bohane' 'Todd Widom' 'Andres Pedroso' 'Mohammed Abdulla'\n",
      " 'Eric Nunez' 'Peng Sun' 'Phillip Harboe' 'Zach Dailey' 'Frank Condor'\n",
      " 'Lars Uebel' 'Jaroslav Pospisil' 'Steven Korteling' 'Aljoscha Thron'\n",
      " 'Phillip Simmonds' 'Rob Steckley' 'Luka Gregorc' 'Minh Quan Do'\n",
      " 'Jose Antonio Sanchez De Luna' 'Gianluca Naso' 'Takahiro Ittogi'\n",
      " 'Evgeny Kirillov' 'Rameez Junaid' 'Vishal Uppal' 'Jacob Adaktusson'\n",
      " 'Jorge Aguilar' 'Alexandre Sidorenko' 'Antal Van Der Duim'\n",
      " 'Tomislav Peric' 'David Luque Velasco' 'Torsten Popp' 'Jamie Baker'\n",
      " 'Robin Roshardt' 'Roman Vogeli' 'Damian Patriarca' 'Luka Belic'\n",
      " 'Stefano Ianni' 'Michael Venus' 'Xin Yuan Yu' 'Juan Martin Aranguren'\n",
      " 'Jasper Smit' 'James Auckland' 'Martin Fischer' 'Julien Mathieu'\n",
      " 'Marc Fornell Mestres' 'Augustin Gensse' 'Rabie Chaki'\n",
      " 'Laurent Recouderc' 'Michel Koning' 'Tim Goransson' 'Erling Tveit'\n",
      " 'Predrag Rusevski' 'Dawid Olejniczak' 'Catalin Gard'\n",
      " 'Peerakiat Siriluethaiwattana' 'Navdeep Singh' 'Purav Raja'\n",
      " 'Hyun Woo Nam' 'Pavel Chekhov' 'Abdulla Hajji' 'Martin Slanar'\n",
      " 'Hans Podlipnik Castillo' 'Daniel Munoz De La Nava' 'Clint Bowles'\n",
      " 'Cesar Ramirez' 'Bruno Rodriguez' 'Pavol Cervenak' 'Jan Minar'\n",
      " 'Mahmoud Nader Al Baloushi' 'Matteo Marrai' 'Gabriel Trujillo Soler'\n",
      " 'Thomas Fabbiano' 'Matwe Middelkoop' 'Samuel Groth' 'Chris Eaton'\n",
      " 'Adrian Cruciat' 'Alberto Brizzi' 'Justin Oneal' 'Philipp Oswald'\n",
      " 'Francesco Piccari' 'Uladzimir Ignatik' 'Devin Mullings' 'Rafael Arevalo'\n",
      " 'Austin Krajicek' 'Marko Djokovic' 'Jun Chao Xu' 'Yan Bai' 'Yuichi Ito'\n",
      " 'Karlis Lejnieks' 'Colin Ebelthite' 'Nikola Mektic' 'Lars Poerschke'\n",
      " 'Sascha Kloer' 'Bruno Agostinelli' 'Chase Buchanan' 'Mikhail Biryukov'\n",
      " 'Henri Kontinen' 'Tsung Hua Yang' 'Karim Maamoun' 'James Lemke'\n",
      " 'Inigo Cervantes Huegun' 'Jason Kubler' 'Ivan Sergeyev' 'Fritz Wolmarans'\n",
      " 'Cristobal Saavedra Corvalan' 'Ruben Bemelmans' 'Petar Jelenic'\n",
      " 'Yannick Mertens' 'Martin Emmrich' 'Sergei Bubka' 'Christian Lindell'\n",
      " 'Jonathan Dasnieres De Veigy' 'Bastian Knittel' 'Agustin Velotti'\n",
      " 'Gerald Melzer' 'Pierre Ludovic Duclos' 'Dusan Lojda' 'Yew Ming Si'\n",
      " 'Di Wu' 'Ze Zhang' 'Javier Marti' 'Sherif Sabry' 'Nicolaas Scholtz'\n",
      " 'Facundo Bagnis' 'Felipe Rios' 'Guilherme Clezar' 'Roman Borvanov'\n",
      " 'Pablo Galdon' 'Andrey Kumantsov' 'Daniel Garza' 'Manuel Sanchez'\n",
      " 'Gerard Granollers' 'Sergio Gutierrez Ferrol' 'Maxime Teixeira'\n",
      " 'Oliver Golding' 'Ludovic Walter' 'Guillermo Olaso' 'Robin Kern'\n",
      " 'Daniel Kosakowski' 'Mate Delic' 'Mate Pavic' 'Artem Sitak'\n",
      " 'Erik Chvojka' 'Peter Torebko' 'Mathieu Rodrigues' 'Nicolas Renavand'\n",
      " 'Zhe Li' 'Ivan Nedelko' 'Benjamin Mitchell' 'Jabor Al Mutawa'\n",
      " 'Matteo Viola' 'Kristijan Mesaros' 'Dino Marcan' 'Dennis Lajola'\n",
      " 'Dimitar Kutrovsky' 'Andres Molteni' 'Juan Sebastian Cabal'\n",
      " 'Rhyne Williams' 'Yassine Idmbarek' 'Carlos Gomez Herrera' 'Liam Broady'\n",
      " 'Marton Fucsovics' 'Adrian Menendez Maceiras' 'Walter Trusendi'\n",
      " 'Marco Trungelliti' 'Henri Laaksonen' 'Nicolas Meister' 'Maxime Authom'\n",
      " 'Hiroki Moriya' 'Guido Andreozzi' 'Dennis Novikov' 'Clement Reix'\n",
      " 'Sergey Betov' 'Nikolai Fidirko' 'Andrei Vasilevski' 'Dominic Inglot'\n",
      " 'Ariez Elyaas Deen Heshaam' 'Philip Davydenko' 'Sanam Singh'\n",
      " 'Patrik Rosenholm' 'Mousa Shanan Zayed' 'John Patrick Smith'\n",
      " 'Luke Saville' 'Martin Alund' 'Christian Garin' 'Filip Veger'\n",
      " 'Facundo Arguello' 'Miguel Angel Reyes Varela' 'Younes Rachidi'\n",
      " 'Roberto Carballes Baena' 'Jan Lennard Struff' 'Niels Desein'\n",
      " 'Marco Cecchinato' 'Jiri Vesely' 'Mirza Basic' 'Kyle Edmund'\n",
      " 'Edward Corrie' 'Matt Reid' 'Markus Eriksson' 'Elias Ymer'\n",
      " 'Stefan Kozlov' 'Adrien Bossel' 'Ante Pavic' 'Alexander Ward'\n",
      " 'Nils Langer' 'Alejandro Gonzalez' 'Juan Ignacio Londero'\n",
      " 'Eduardo Struvay' 'Emilio Gomez' 'Kevin King' 'Christian Harrison'\n",
      " 'Boy Westerhof' 'Josko Topic' 'Borna Coric' 'Dennis Novak' 'Filip Peliwo'\n",
      " 'Mackenzie Mcdonald' 'Romain Bogaerts' 'Collin Altamirano'\n",
      " 'Aslan Karatsev' 'Karen Khachanov' 'Laslo Djere'\n",
      " 'Wishaya Trongcharoenchaikul' 'Suk Young Jeong' 'Hyeon Chung'\n",
      " 'Aleksandr Nedovyesov' 'Milos Sekulic' 'Miloslav Mecir'\n",
      " 'Thanasi Kokkinakis' 'Radu Albot' 'Jeevan Nedunchezhiyan'\n",
      " 'Ramkumar Ramanathan' 'Karim Hossam' 'Jordan Thompson' 'Blaz Rola'\n",
      " 'Andres Artunedo Martinavarr' 'Gonzalo Lama' 'Taro Daniel' 'Pedja Krstin'\n",
      " 'Tigre Hank' 'Hicham Khaddari' 'Patrick Ciorcila' 'Stefano Travaglia'\n",
      " 'Nikola Milojevic' 'Martin Vaisse' 'Laurent Lokoli' 'Andrea Arnaboldi'\n",
      " 'Axel Michon' 'Kimmer Coppejans' 'Daniel Smethurst' 'Tim Puetz'\n",
      " 'Renzo Olivo' 'Mitchell Krueger' 'Clay Thompson' 'Nathan Pasha'\n",
      " 'Steven Diez' 'Fabiano De Paula' 'Viktor Galovic' 'Jared Donaldson'\n",
      " 'Francis Tiafoe' 'Brayden Schnur' 'Noah Rubin' 'Marcos Giron'\n",
      " 'James Mcgee' 'Yoshihito Nishioka' 'Omar Jasika' 'Kento Takeuchi'\n",
      " 'Gregoire Burquier' 'Egor Gerasimov' 'Bowen Ouyang' 'Xin Gao'\n",
      " 'Chuhan Wang' 'Andrey Rublev' 'Victor Baluda' 'Norbert Gombos'\n",
      " 'Luca Vanni' 'N Vijay Sundar Prashanth' 'Gonzalo Escobar' 'Nicolas Jarry'\n",
      " 'Toni Androic' 'Eric Quigley' 'Fabrice Martin' 'Alex Bolt'\n",
      " 'Arthur De Greef' 'Jaume Munar' 'Lorenzo Giustino' 'Constant Lestienne'\n",
      " 'Frederico Ferreira Silva' 'David Vega Hernandez' 'Cem Ilkel'\n",
      " 'Bastian Trinker' 'Federico Gaio' 'Matteo Donati' 'Maxime Hamou'\n",
      " 'Quentin Halys' 'Germain Gigounon' 'Maximilian Marterer'\n",
      " 'Taylor Harry Fritz' 'Daniel Elahi Galan Riveros' 'Alexander Sarkissian'\n",
      " 'Marcelo Demoliner' 'Alejandro Gomez Gb42' 'Matteo Trevisan'\n",
      " 'Christopher Eubanks' 'Calvin Hemery' 'Darian King' 'Bjorn Fratangelo'\n",
      " 'Tommy Paul' 'Ryan Shane' 'Yaraslau Shyla' 'Yasutaka Uchiyama'\n",
      " 'Takuto Niki' 'Zhizhen Zhang' 'Mikael Ymer' 'Lucas Miedler'\n",
      " 'Oliver Anderson' 'Jozef Kovalik' 'Mubarak Al Harrasi' 'Finn Tearney'\n",
      " 'Matthew Barton' 'Alexander Lazov' 'Dimitar Kuzmanov' 'Michael Mmoh'\n",
      " 'Thiago Monteiro' 'Lucas Gomez' 'Luis Patino' 'Adam Hornby'\n",
      " 'Seanon Williams' 'Jose Olivares' 'Jose Hernandez' 'Manuel Castellanos'\n",
      " 'Gabor Borsos' 'Peter Nagy' 'Aqeel Khan' 'Yasir Khan' 'Mahammad Abid'\n",
      " 'Tomislav Ternar' 'Isak Arvidsson' 'Daniel Windahl' 'Anis Ghorbel'\n",
      " 'Tomislav Brkic' 'Alexandar Lazarov' 'Altug Celikbilek'\n",
      " 'Karim Mohamed Maamoun' 'George Tsivadze' 'Giorgi Javakhishvili'\n",
      " 'Irakli Metreveli' 'Casper Ruud' 'Viktor Durasovic' 'Lukas Mugevicius'\n",
      " 'Wilfredo Gonzalez' 'Christopher Diaz Figueroa' 'Hans Hach Verdugo'\n",
      " 'Romain Arneodo' 'Rudolfs Mednis' 'Bruno Britez' 'Ayed Zatar'\n",
      " 'Francisco Yim Kim' 'Hernando Jose Escurra Isnardi'\n",
      " 'Abdulrahman Alawadhi' 'Abdulhamid Mubarak' 'Ali Ghareeb'\n",
      " 'Alberto Emmanuel Alvarado Larin' 'Alex Diaz' 'Sebastian Arcila'\n",
      " 'Sebastian Quiros' 'Alex Knaff' 'Ugo Nastasi' 'Tom Diederich'\n",
      " 'Puriwat Chatpatcharoen' 'Sharmal Dissanayake' 'Harshana Godamanna'\n",
      " 'Jui Chen Hung' 'Syed Mohd Agil Syed Naguib' 'Mohd Assri Merzuki'\n",
      " 'Hao Sheng Koay' 'Minhtuan Pham' 'Aditya Hari Sasongko' 'Nam Hoang Ly'\n",
      " 'Courtney John Lock' 'Takanyi Garanganga' 'Eero Vasa' 'Hubert Hurkacz'\n",
      " 'Antoine Bellier' 'Reilly Opelka' 'Nicolas Kicker' 'Amine Ahouda'\n",
      " 'Pedro Cachin' 'Michael Linzer' 'Lorenzo Sonego' 'Salvatore Caruso'\n",
      " 'Roberto Ortega Olmedo' 'Daniil Medvedev' 'Jordi Samper Montana'\n",
      " 'Adam Pavlasek' 'Mathias Bourgue' 'Ernesto Escobedo' 'Jan Choinski'\n",
      " 'Tristan Lamasine' 'Marcus Willis' 'Fred Simonsson' 'Carl Soderlund'\n",
      " 'Marvin Moeller' 'Jan Satral' 'Louis Wessels' 'Roberto Quiroz'\n",
      " 'Seong Chan Hong' 'Yong Kyu Lim' 'Hong Chung' 'Jordi Munoz Abreu'\n",
      " 'Ricardo Rodriguez' 'Mikael Torpegaard' 'Harri Heliovaara'\n",
      " 'Martins Podzus' 'Mikelis Libietis' 'Janis Podzus' 'Tucker Vorster'\n",
      " 'Lloyd George Muirhead Harris' 'Tadas Babelis' 'Ruben Gonzales'\n",
      " 'Francis Casey Alcantara' 'Jeson Patrombon' 'Thien Nguyen Hoang'\n",
      " 'Dac Tien Nguyen' 'Johan Nikles' 'Akira Santillan' 'Enrique Lopez Perez'\n",
      " 'Nino Serdarusic' 'Nikola Cacic' 'Denis Shapovalov' 'Austin Smith'\n",
      " 'Tim Van Rijthoven' 'Saketh Myneni' 'Ilya Ivashka' 'Andreas Bjerrehus'\n",
      " 'Benjamin Hannestad' 'Tomas Vaise' 'Mauricio Echazu'\n",
      " 'Luis David Martinez' 'Pruchya Isarow' 'Sumit Nagal' 'Kamil Majchrzak'\n",
      " 'Artem Smirnov' 'Danylo Kalenichenko' 'Sanjar Fayziev' 'Djurabek Karimov'\n",
      " 'Marin Draganja' 'Alexander Bublik' 'Andrew Whittington' 'Yannick Maden'\n",
      " 'Joris De Loore' 'Alex De Minaur' 'Anil Yuksel' 'Christopher Oconnell'\n",
      " 'Blake Mott' 'Roberto Cid' 'Nick Hardt' 'Yshai Oliel' 'Daniel Cukierman'\n",
      " 'Juan Pablo Varillas Patino Samudio' 'Alexander Merino' 'Duck Hee Lee'\n",
      " 'Soon Woo Kwon' 'Philip Wilbert Major' 'Spencer Newman' 'Justin Lunn'\n",
      " 'Haydn Lewis' 'Hugo Dellien' 'Vladimir Ivanov' 'Mattias Siimar'\n",
      " 'Emil Ruusuvuori' 'Patrik Niklas Salminen' 'Alberto Lim'\n",
      " 'David Agung Susanto' 'Anthony Susanto' 'Abdullah Maqdas'\n",
      " 'Lucas Andriamasilalao' 'Antso Rakotondramanga' 'Soren Hess Olesen'\n",
      " 'Mehdi Jdi' 'Gerardo Lopez Villasenor' 'Lucas Catarina' 'Tilen Zitnik'\n",
      " 'Shahin Khaledan' 'Anoosha Shahgholi' 'Aziz Dougaz' 'Petros Chrysochos'\n",
      " 'Menelaos Efstathiou' 'Nicholas Campbell' 'Hei Yin Andrew Li'\n",
      " 'Hong Kit Jack Wong' 'Marko Tepavac' 'Stefanos Tsitsipas'\n",
      " 'Tallon Griekspoor' 'Jason Jung' 'Kuan Yi Lee' 'Hsien Yin Peng'\n",
      " 'Orlando Luz' 'Ivan Endara' 'Mykyta Mashtakov' 'Illia Biloborodko'\n",
      " 'Temur Ismailov' 'Prajnesh Gunneswaran' 'Luciano Ramazzini'\n",
      " 'Jesus Bandres' 'Simen Sunde Bratholm' 'Patrick Tierro' 'Mike Urbanija'\n",
      " 'Tennys Sandgren' 'Gianluigi Quinzi' 'Joao Domingues' 'Riccardo Bellotti'\n",
      " 'Daniel Masur' 'Yannick Hanfmann' 'Gianluca Mager' 'Stefano Napolitano'\n",
      " 'Matteo Berrettini' 'Roberto Marcora' 'Daniel Altmaier'\n",
      " 'Alexandre Muller' 'Benjamin Bonzi' 'Cameron Norrie' 'Sebastian Ofner'\n",
      " 'Thai Son Kwiatkowski' 'Marc Polmans' 'Miljan Zekic' 'Gleb Sakharov'\n",
      " 'Rudolf Molleker' 'Alexios Halebian' 'Sekou Bangoura' 'Edan Leshem'\n",
      " 'Alessandro Bega' 'Dominik Koepfer' 'Geoffrey Blancaneaux'\n",
      " 'Vaclav Safranek' 'Patrick Kypson' 'Jc Aragone' 'Matthew Foster Estwick'\n",
      " 'Julius Tverijonas' 'Dmitry Popko' 'Dzmitry Zhyrmont' 'Evgeny Tyurnev'\n",
      " 'Yibing Wu' 'Nicola Kuhn' 'Yusuke Takahashi' 'Roman Safiullin'\n",
      " 'Arjun Kadhe' 'Ricardo Ojeda Lara' 'Liam Caruana' 'Alexei Popyrin'\n",
      " 'Aleksandar Vukic' 'Corentin Moutet' 'Xavier Lawrence' 'Joao Pedro Sorgi'\n",
      " 'Minjong Park' 'Julien Cagnina' 'Adrian Bodmer' 'Roman Hassanov'\n",
      " 'Federico Zeballos' 'Peter August Anker' 'Martin Cuevas'\n",
      " 'Marcelo Arevalo' 'Rafael Eduardo Gonzalez Retana' 'Kenneth Raisma'\n",
      " 'Ainius Sabaliauskas' 'Mohsen Hossein Zade' 'Amir Hossein Badi'\n",
      " 'Simon Carr' 'Peter Bothwell' 'Cheng Yu Yu' 'Michel Saade'\n",
      " 'Muhammad Althaf Dhaifullah' 'Ignacio Garcia' 'Nicolae Frunza'\n",
      " 'Christophe Tholl' 'Jirat Navasirisomboon' 'Yasitha De Silva'\n",
      " 'Alex Fairbanks' 'Carlos Taberner' 'Adrian Andreev' 'Alexander Donski'\n",
      " 'Sebastian Korda' 'Felix Auger Aliassime' 'Hugo Gaston'\n",
      " 'Thiago Seyboth Wild' 'Miomir Kecmanovic' 'Muzammil Murtaza'\n",
      " 'Christoffer Konigsfeldt' 'Youssef Hossam' 'Chun Hun Wong'\n",
      " 'Benjamin Lock' 'Mark Chigaazira' 'Soufiane El Mesbahi' 'Yassir Kilani'\n",
      " 'John Bryan Decasa Otico' 'David Souto' 'Brandon Perez'\n",
      " 'Pedro Martinez Portero' 'Alexey Vatutin' 'Zsombor Piros' 'Filippo Baldi'\n",
      " 'Bernabe Zapata Miralles' 'Federico Coria' 'Filip Horansky'\n",
      " 'Elliot Benchetrit' 'Oscar Otte' 'Maxime Janvier' 'Max Purcell'\n",
      " 'Jay Clarke' 'Zdenek Kolar' 'Emil Reinberg' 'Oriol Roca Batalla'\n",
      " 'Marc Andrea Huesler' 'Jurij Rodionov' 'Yosuke Watanuki' 'Borna Gojo'\n",
      " 'Jenson Brooksby' 'Ugo Humbert' 'Nicolas Mejia' 'Scott Griekspoor'\n",
      " 'Mate Valkusz' 'Darko Bojanovic' 'N Sriram Balaji' 'Jonathan Mridha'\n",
      " 'Palaphoom Kovapitukted' 'Benjamin Hassan' 'Chun Hsin Tseng'\n",
      " 'Evgeny Karlovskiy' 'Antonie Hoang' 'Nerman Fatic' 'Jiri Lehecka'\n",
      " 'David Szintai' 'Francisco Cerundolo' 'Jack Mingjie Lin' 'Emilio Nava'\n",
      " 'Pedro Sakamoto']\n"
     ]
    }
   ],
   "source": [
    "# Get the loser with nan loser_ht\n",
    "nan_ht_names = df[df[\"loser_ht\"]\\\n",
    "                                .isnull()][\"loser_name\"].unique()\n",
    "print(nan_ht_names)\n",
    "\n",
    "# See if the loser_ht is defined for another game\n",
    "# when the player is a loser\n",
    "for name in nan_ht_names:\n",
    "    ht = df[df[\"loser_name\"] == name][\"loser_ht\"]\n",
    "    if ht.isnull().all() == False:\n",
    "        print(\"loser_ht founded for loser_name\" + name)\n",
    "# when the player is a winner\n",
    "for name in nan_hand_names:\n",
    "    ht = df[df[\"winner_name\"] == name][\"winner_ht\"]\n",
    "    if ht.isnull().all() == False:\n",
    "        print(\"loser_ht founded for loser_name\" + name)"
   ]
  },
  {
   "cell_type": "code",
   "execution_count": 24,
   "metadata": {},
   "outputs": [
    {
     "data": {
      "text/plain": [
       "184.95416248363853"
      ]
     },
     "execution_count": 24,
     "metadata": {},
     "output_type": "execute_result"
    }
   ],
   "source": [
    "df[\"loser_ht\"].mean()"
   ]
  },
  {
   "cell_type": "code",
   "execution_count": 25,
   "metadata": {},
   "outputs": [],
   "source": [
    "mean_loser_ht = df[\"loser_ht\"].mean()\n",
    "df[\"loser_ht\"] = df[\"loser_ht\"]\\\n",
    "                            .fillna(mean_loser_ht)"
   ]
  },
  {
   "cell_type": "markdown",
   "metadata": {},
   "source": [
    "### loser_seed"
   ]
  },
  {
   "cell_type": "code",
   "execution_count": 26,
   "metadata": {},
   "outputs": [
    {
     "name": "stdout",
     "output_type": "stream",
     "text": [
      "63414\n"
     ]
    }
   ],
   "source": [
    "print(df[\"loser_seed\"].isnull().sum())\n",
    "df = df.drop(labels=[\"loser_seed\"], axis=1)"
   ]
  },
  {
   "cell_type": "markdown",
   "metadata": {},
   "source": [
    "### match_num"
   ]
  },
  {
   "cell_type": "code",
   "execution_count": 27,
   "metadata": {},
   "outputs": [],
   "source": [
    "df = df.drop(labels=[\"match_num\"], axis=1)"
   ]
  },
  {
   "cell_type": "markdown",
   "metadata": {},
   "source": [
    "### minutes"
   ]
  },
  {
   "cell_type": "code",
   "execution_count": 28,
   "metadata": {},
   "outputs": [
    {
     "data": {
      "image/png": "[encoded data removed]",
      "text/plain": [
       "<Figure size 720x720 with 1 Axes>"
      ]
     },
     "metadata": {
      "needs_background": "light"
     },
     "output_type": "display_data"
    }
   ],
   "source": [
    "n_Nan_minutes = df.dropna(axis=0, subset=[\"minutes\"])[\"minutes\"]\n",
    "plt.figure(figsize=(10,10))\n",
    "sns.distplot(n_Nan_minutes)\n",
    "\n",
    "# Fill Nan with the median\n",
    "mean_minutes = n_Nan_minutes.mean()\n",
    "df[\"minutes\"] = df[\"minutes\"]\\\n",
    "                            .fillna(mean_minutes)"
   ]
  },
  {
   "cell_type": "markdown",
   "metadata": {},
   "source": [
    "## Winner player columns"
   ]
  },
  {
   "cell_type": "code",
   "execution_count": 29,
   "metadata": {
    "scrolled": true
   },
   "outputs": [
    {
     "name": "stdout",
     "output_type": "stream",
     "text": [
      "<class 'pandas.core.frame.DataFrame'>\n",
      "Int64Index: 83410 entries, 76801 to 169689\n",
      "Data columns (total 45 columns):\n",
      "best_of               83410 non-null int64\n",
      "l_1stIn               83410 non-null float64\n",
      "l_1stWon              83410 non-null float64\n",
      "l_2ndWon              83410 non-null float64\n",
      "l_SvGms               83410 non-null float64\n",
      "l_ace                 83410 non-null float64\n",
      "l_bpFaced             83410 non-null float64\n",
      "l_bpSaved             83410 non-null float64\n",
      "l_df                  83410 non-null float64\n",
      "l_svpt                83410 non-null float64\n",
      "loser_age             83410 non-null float64\n",
      "loser_hand            83410 non-null object\n",
      "loser_ht              83410 non-null float64\n",
      "loser_id              83410 non-null int64\n",
      "loser_ioc             83410 non-null object\n",
      "loser_name            83410 non-null object\n",
      "loser_rank            83049 non-null float64\n",
      "loser_rank_points     82108 non-null float64\n",
      "minutes               83410 non-null float64\n",
      "round                 83410 non-null object\n",
      "score                 83410 non-null object\n",
      "surface               83410 non-null object\n",
      "tourney_date          83410 non-null int64\n",
      "tourney_id            83410 non-null object\n",
      "tourney_level         83410 non-null object\n",
      "tourney_name          83410 non-null object\n",
      "w_1stIn               83410 non-null float64\n",
      "w_1stWon              83410 non-null float64\n",
      "w_2ndWon              83410 non-null float64\n",
      "w_SvGms               83410 non-null float64\n",
      "w_ace                 83410 non-null float64\n",
      "w_bpFaced             83410 non-null float64\n",
      "w_bpSaved             83410 non-null float64\n",
      "w_df                  83410 non-null float64\n",
      "w_svpt                83410 non-null float64\n",
      "winner_age            83406 non-null float64\n",
      "winner_entry          10762 non-null object\n",
      "winner_hand           83402 non-null object\n",
      "winner_ht             80711 non-null float64\n",
      "winner_id             83410 non-null int64\n",
      "winner_ioc            83410 non-null object\n",
      "winner_name           83410 non-null object\n",
      "winner_rank           83303 non-null float64\n",
      "winner_rank_points    82352 non-null float64\n",
      "winner_seed           36935 non-null float64\n",
      "dtypes: float64(28), int64(4), object(13)\n",
      "memory usage: 29.3+ MB\n"
     ]
    }
   ],
   "source": [
    "df.info()"
   ]
  },
  {
   "cell_type": "markdown",
   "metadata": {},
   "source": [
    "### winner_age"
   ]
  },
  {
   "cell_type": "code",
   "execution_count": 30,
   "metadata": {
    "scrolled": true
   },
   "outputs": [
    {
     "data": {
      "text/plain": [
       "Text(0.5, 1.0, 'winner_age distribution')"
      ]
     },
     "execution_count": 30,
     "metadata": {},
     "output_type": "execute_result"
    },
    {
     "data": {
      "image/png": "[encoded data removed]",
      "text/plain": [
       "<Figure size 720x720 with 1 Axes>"
      ]
     },
     "metadata": {
      "needs_background": "light"
     },
     "output_type": "display_data"
    }
   ],
   "source": [
    "#winner_age: The best solutipon is to fill NaN values with the median.\n",
    "n_Nan_w_age = df.dropna(axis=0, subset=[\"winner_age\"])[\"winner_age\"]\n",
    "plt.figure(figsize=(10,10))\n",
    "sns.distplot(n_Nan_w_age)\n",
    "\n",
    "# Fill Nan with the median\n",
    "median_winner_age = n_Nan_w_age.median()\n",
    "df[\"winner_age\"] = df[\"winner_age\"]\\\n",
    "                                .fillna(median_winner_age)\n",
    "\n",
    "# loser_age after modification (fillna)\n",
    "\n",
    "sns.distplot(df[\"winner_age\"])\n",
    "plt.legend(labels=['Before fillna','after fillna'])\n",
    "plt.title(\"winner_age distribution\")"
   ]
  },
  {
   "cell_type": "markdown",
   "metadata": {},
   "source": [
    "### winner_entry"
   ]
  },
  {
   "cell_type": "code",
   "execution_count": 31,
   "metadata": {},
   "outputs": [],
   "source": [
    "# We choose to drop loser_entry column (no clear method to fill nan values)\n",
    "df = df.drop(labels=[\"winner_entry\"], axis=1)"
   ]
  },
  {
   "cell_type": "markdown",
   "metadata": {},
   "source": [
    "### winner_hand"
   ]
  },
  {
   "cell_type": "code",
   "execution_count": 32,
   "metadata": {},
   "outputs": [
    {
     "data": {
      "text/plain": [
       "R    71316\n",
       "L    11899\n",
       "U      187\n",
       "Name: winner_hand, dtype: int64"
      ]
     },
     "execution_count": 32,
     "metadata": {},
     "output_type": "execute_result"
    }
   ],
   "source": [
    "df[\"winner_hand\"].value_counts()"
   ]
  },
  {
   "cell_type": "code",
   "execution_count": 33,
   "metadata": {},
   "outputs": [
    {
     "name": "stdout",
     "output_type": "stream",
     "text": [
      "['Sebastian Arcila' 'Ignacio Garcia' 'Bruno Britez'\n",
      " 'Jean Jacques Rakotohasy' 'Hady Habib']\n",
      "loser_hand founded for winner_nameSebastian Arcila\n",
      "loser_hand founded for winner_nameIgnacio Garcia\n",
      "loser_hand founded for winner_nameBruno Britez\n"
     ]
    }
   ],
   "source": [
    "# Get the loser with nan loser_hand\n",
    "nan_hand_names = df[df[\"winner_hand\"]\\\n",
    ".isnull()][\"winner_name\"].unique()\n",
    "print(nan_hand_names)\n",
    "\n",
    "# See if the winner_hand is defined for another game\n",
    "# when the player is a loser\n",
    "verify_name = []\n",
    "for name in nan_hand_names:\n",
    "    hands = df[df[\"loser_name\"] == name][\"loser_hand\"]\n",
    "    if hands.isnull().all() == False:\n",
    "        verify_name.append(name)\n",
    "        print(\"loser_hand founded for winner_name\" + name)\n",
    "# when the player is a winner\n",
    "for name in nan_hand_names:\n",
    "    hands = df[df[\"winner_name\"] == name][\"winner_hand\"]\n",
    "    if hands.isnull().all() == False:\n",
    "        verify_name.append(name)\n",
    "        print(\"loser_hand founded for winner_name\" + name)"
   ]
  },
  {
   "cell_type": "code",
   "execution_count": 34,
   "metadata": {},
   "outputs": [],
   "source": [
    "for name in verify_name:\n",
    "    for row_index in df[df[\"winner_name\"] == name].index:\n",
    "        df.loc[row_index,'winner_hand'] = \"R\""
   ]
  },
  {
   "cell_type": "code",
   "execution_count": 35,
   "metadata": {},
   "outputs": [],
   "source": [
    "max_winner_hand = df[\"winner_hand\"].value_counts().idxmax()\n",
    "df[\"winner_hand\"] = df[\"winner_hand\"]\\\n",
    "                                    .fillna(max_winner_hand)"
   ]
  },
  {
   "cell_type": "code",
   "execution_count": 36,
   "metadata": {},
   "outputs": [
    {
     "data": {
      "text/plain": [
       "R    71324\n",
       "L    11899\n",
       "U      187\n",
       "Name: winner_hand, dtype: int64"
      ]
     },
     "execution_count": 36,
     "metadata": {},
     "output_type": "execute_result"
    }
   ],
   "source": [
    "df[\"winner_hand\"].value_counts()"
   ]
  },
  {
   "cell_type": "markdown",
   "metadata": {},
   "source": [
    "### winner_ht"
   ]
  },
  {
   "cell_type": "code",
   "execution_count": 37,
   "metadata": {},
   "outputs": [
    {
     "data": {
      "text/plain": [
       "<matplotlib.axes._subplots.AxesSubplot at 0x227d26e1eb8>"
      ]
     },
     "execution_count": 37,
     "metadata": {},
     "output_type": "execute_result"
    },
    {
     "data": {
      "image/png": "[encoded data removed]",
      "text/plain": [
       "<Figure size 720x720 with 1 Axes>"
      ]
     },
     "metadata": {
      "needs_background": "light"
     },
     "output_type": "display_data"
    }
   ],
   "source": [
    "n_Nan_w_ht = df.dropna(axis=0, subset=[\"winner_ht\"])[\"winner_ht\"]\n",
    "plt.figure(figsize=(10,10))\n",
    "sns.distplot(n_Nan_w_ht)"
   ]
  },
  {
   "cell_type": "code",
   "execution_count": 38,
   "metadata": {},
   "outputs": [
    {
     "data": {
      "text/plain": [
       "count    80711.000000\n",
       "mean       185.443793\n",
       "std          6.661710\n",
       "min        163.000000\n",
       "25%        180.000000\n",
       "50%        185.000000\n",
       "75%        190.000000\n",
       "max        208.000000\n",
       "Name: winner_ht, dtype: float64"
      ]
     },
     "execution_count": 38,
     "metadata": {},
     "output_type": "execute_result"
    }
   ],
   "source": [
    "df.describe()[\"winner_ht\"]"
   ]
  },
  {
   "cell_type": "code",
   "execution_count": 39,
   "metadata": {},
   "outputs": [
    {
     "name": "stdout",
     "output_type": "stream",
     "text": [
      "['Seung Ho Ji' 'Miguel Merz' 'Milen Velev' 'Ralph Kok' 'Hideki Kaneko'\n",
      " 'Han Cheol Shin' 'Nicolas Kischkewitz' 'Ryuso Tsujino' 'Axel Finnberg'\n",
      " 'Juan Luis Tati Rascon' 'Bill Barber' 'Mario Rincon' 'Gilles Bastie'\n",
      " 'Howard Joffe' 'Kotaro Miyachi' 'Colin Beecher' 'Alexandre Strambini'\n",
      " 'Daniele Balducci' 'Nir Welgreen' 'Filippo Veglio' 'Federico Dondo'\n",
      " 'Marcus Hilpert' 'Jordi Mas' 'Igor Kornienko' 'Solon Peppas'\n",
      " 'Dejan Petrovic' 'Kalle Flygt' 'Lee Childs' 'Johan Ortegren'\n",
      " 'Jonas Froberg' 'Takahiro Terachi' 'Hiroki Kondo' 'Mounir El Aarej'\n",
      " 'Thomas Blake' 'Maximilian Abel' 'Diogo Rocha' 'Jonathan Marray'\n",
      " 'Ian Flanagan' 'Hao Lu' 'Matias Boeker' 'Ben Qiang Zhu' 'Todd Widom'\n",
      " 'Peng Sun' 'Yu Jr Wang' 'Gustavo Marcaccio' 'Jorge Aguilar'\n",
      " 'Mohammad Ghareeb' 'Slimane Saoudi' 'Stefano Ianni' 'Luka Gregorc'\n",
      " 'James Auckland' 'Gianluca Naso' 'Augustin Gensse' 'Laurent Recouderc'\n",
      " 'Jamie Baker' 'Gabriel Trujillo Soler' 'Samuel Groth' 'Chris Eaton'\n",
      " 'Ervin Eleskovic' 'Rafael Arevalo' 'Adrian Cruciat' 'Martin Slanar'\n",
      " 'Karlis Lejnieks' 'Alexandre Sidorenko' 'Ivan Sergeyev' 'Petar Jelenic'\n",
      " 'Yannick Mertens' 'Leonardo Tavares' 'Daniel Munoz De La Nava'\n",
      " 'Henri Kontinen' 'Martin Fischer' 'Sergei Bubka' 'Ruben Bemelmans'\n",
      " 'Yan Bai' 'Fritz Wolmarans' 'Maxime Teixeira' 'Javier Marti'\n",
      " 'Jonathan Dasnieres De Veigy' 'Guillermo Olaso' 'Pavol Cervenak'\n",
      " 'Bastian Knittel' 'Daniel Kosakowski' 'Pierre Ludovic Duclos'\n",
      " 'Mathieu Rodrigues' 'Nicolas Renavand' 'Ze Zhang' 'Sebastian Rieschick'\n",
      " 'Dimitar Kutrovsky' 'Facundo Bagnis' 'Sergio Gutierrez Ferrol'\n",
      " 'Inigo Cervantes Huegun' 'Mate Pavic' 'Marco Trungelliti'\n",
      " 'Philipp Oswald' 'Dennis Novikov' 'Clement Reix' 'Hiroki Moriya'\n",
      " 'Patrik Rosenholm' 'Christian Garin' 'Matteo Viola' 'Martin Alund'\n",
      " 'Rhyne Williams' 'Henri Laaksonen' 'Mirza Basic' 'Kyle Edmund'\n",
      " 'Jan Lennard Struff' 'Nils Langer' 'Emilio Gomez' 'Christian Harrison'\n",
      " 'Filip Peliwo' 'Marton Fucsovics' 'Karen Khachanov' 'Jaroslav Pospisil'\n",
      " 'Miloslav Mecir' 'Ramkumar Ramanathan' 'Jiri Vesely' 'Thanasi Kokkinakis'\n",
      " 'Blaz Rola' 'Taro Daniel' 'Alejandro Gonzalez' 'Aleksandr Nedovyesov'\n",
      " 'Roberto Carballes Baena' 'Mate Delic' 'Jason Kubler' 'Nikola Milojevic'\n",
      " 'Axel Michon' 'Tim Puetz' 'Luke Saville' 'Ante Pavic' 'Radu Albot'\n",
      " 'Elias Ymer' 'Christian Lindell' 'Renzo Olivo' 'Austin Krajicek'\n",
      " 'Philip Davydenko' 'Borna Coric' 'Chuhan Wang' 'Michael Venus'\n",
      " 'Nicolas Jarry' 'Gerald Melzer' 'Jared Donaldson' 'Luca Vanni'\n",
      " 'Andrey Rublev' 'Yoshihito Nishioka' 'Facundo Arguello' 'Guido Andreozzi'\n",
      " 'Hyeon Chung' 'Arthur De Greef' 'Nikola Mektic' 'Matteo Donati'\n",
      " 'Andrea Arnaboldi' 'Taylor Harry Fritz' 'Liam Broady'\n",
      " 'John Patrick Smith' 'Daniel Elahi Galan Riveros' 'Alexander Sarkissian'\n",
      " 'Marcelo Demoliner' 'Alejandro Gomez Gb42' 'Adrian Menendez Maceiras'\n",
      " 'Bastian Trinker' 'Jaume Munar' 'Dennis Novak' 'Francis Tiafoe'\n",
      " 'Zhizhen Zhang' 'Aslan Karatsev' 'Thomas Fabbiano' 'Matthew Barton'\n",
      " 'Jordan Thompson' 'Quentin Halys' 'Omar Jasika' 'Noah Rubin'\n",
      " 'Thiago Monteiro' 'Ivan Endara' 'Hans Podlipnik Castillo' 'Gonzalo Lama'\n",
      " 'Peter Nagy' 'Edan Leshem' 'Seong Chan Hong' 'Di Wu' 'Cem Ilkel'\n",
      " 'Alexandar Lazarov' 'Egor Gerasimov' 'Ilya Ivashka' 'Christian Sigsgaard'\n",
      " 'Benjamin Hannestad' 'Viktor Durasovic' 'Casper Ruud' 'Lucas Gomez'\n",
      " 'Hans Hach Verdugo' 'Christopher Diaz Figueroa' 'Wilfredo Gonzalez'\n",
      " 'Martins Podzus' 'Mikelis Libietis' 'Lucas Catarina' 'Ricardo Rodriguez'\n",
      " 'Luis David Martinez' 'Miguel Angel Este' 'Jeson Patrombon'\n",
      " 'Ruben Gonzales' 'Francis Casey Alcantara' 'Sebastian Arcila'\n",
      " 'Marcelo Arevalo' 'Ignacio Garcia' 'Tucker Vorster'\n",
      " 'Lloyd George Muirhead Harris' 'Harshana Godamanna' 'Pruchya Isarow'\n",
      " 'Sharmal Dissanayake' 'Mohd Assri Merzuki' 'Liang Chi Huang'\n",
      " 'Jui Chen Hung' 'Christopher Rungkat' 'Nam Hoang Ly' 'Thien Nguyen Hoang'\n",
      " 'Harri Heliovaara' 'Takanyi Garanganga' 'Hubert Hurkacz'\n",
      " 'Marco Cecchinato' 'Jozef Kovalik' 'Bjorn Fratangelo' 'Tommy Paul'\n",
      " 'Adam Pavlasek' 'Mathias Bourgue' 'Stefan Kozlov' 'Daniil Medvedev'\n",
      " 'Ernesto Escobedo' 'Marcus Willis' 'Carl Soderlund' 'Calvin Hemery'\n",
      " 'Louis Wessels' 'Nicolas Kicker' 'Saketh Myneni' 'Yong Kyu Lim'\n",
      " 'Matwe Middelkoop' 'Mikael Torpegaard' 'Yaraslau Shyla'\n",
      " 'Lukas Mugevicius' 'Mauricio Echazu' 'Nicolas Alvarez' 'Tristan Lamasine'\n",
      " 'Nikola Cacic' 'Steven Diez' 'Denis Shapovalov' 'Reilly Opelka'\n",
      " 'Jan Satral' 'Tomislav Brkic' 'Nerman Fatic' 'Kuan Yi Lee'\n",
      " 'Tsung Hua Yang' 'Joris De Loore' 'Kamil Majchrzak' 'Antoine Bellier'\n",
      " 'Andrew Whittington' 'Alexander Bublik' 'Mikael Ymer' 'Alex De Minaur'\n",
      " 'Marcelo Tomas Barrios Vera' 'Frederico Ferreira Silva' 'Roberto Quiroz'\n",
      " 'Gonzalo Escobar' 'Jordi Munoz Abreu' 'Ayed Zatar' 'Darian King'\n",
      " 'Bruno Britez' 'Federico Zeballos' 'Nicolaas Scholtz' 'Vladimir Ivanov'\n",
      " 'George Tsivadze' 'David Agung Susanto' 'Alberto Lim'\n",
      " 'Jirat Navasirisomboon' 'Wishaya Trongcharoenchaikul'\n",
      " 'Antso Rakotondramanga' 'Jean Jacques Rakotohasy' 'Soren Hess Olesen'\n",
      " 'Manuel Sanchez' 'Thomas Oger' 'Simen Sunde Bratholm' 'Aqeel Khan'\n",
      " 'Isak Arvidsson' 'Altug Celikbilek' 'Hong Kit Jack Wong'\n",
      " 'Yasutaka Uchiyama' 'Federico Gaio' 'Zhe Li' 'Yibing Wu' 'Norbert Gombos'\n",
      " 'Dmitry Popko' 'Prajnesh Gunneswaran' 'Temur Ismailov' 'August Holmgren'\n",
      " 'Laslo Djere' 'Gianluigi Quinzi' 'Amine Ahouda' 'Joao Domingues'\n",
      " 'Yannick Hanfmann' 'Benjamin Bonzi' 'Stefano Napolitano'\n",
      " 'Daniel Altmaier' 'Cameron Norrie' 'Sebastian Ofner' 'Akira Santillan'\n",
      " 'Christopher Eubanks' 'Gleb Sakharov' 'Miljan Zekic' 'Tennys Sandgren'\n",
      " 'Mitchell Krueger' 'Stefano Travaglia' 'Markus Eriksson' 'Viktor Galovic'\n",
      " 'Yannick Maden' 'Stefanos Tsitsipas' 'Michael Mmoh' 'Matteo Berrettini'\n",
      " 'Ricardo Ojeda Lara' 'Mackenzie Mcdonald' 'Maximilian Marterer'\n",
      " 'Lorenzo Sonego' 'Cristian Rodriguez' 'Jose Hernandez' 'Joao Pedro Sorgi'\n",
      " 'M Abid Ali Khan Akbar' 'Zsombor Piros' 'Marc Andrea Huesler'\n",
      " 'Pedja Krstin' 'Duilio Beretta' 'Juan Pablo Varillas Patino Samudio'\n",
      " 'Karim Mohamed Maamoun' 'Youssef Hossam' 'Rodrigo Arus'\n",
      " 'Anthony Jackie Tang' 'Skyler Butts' 'Peter Bothwell' 'Benjamin Hassan'\n",
      " 'Hady Habib' 'Chun Hsin Tseng' 'John Bryan Decasa Otico' 'Luis Patino'\n",
      " 'Ugo Nastasi' 'Bogdan Borza' 'Emil Ruusuvuori' 'Benjamin Lock'\n",
      " 'Carlos Taberner' 'Corentin Moutet' 'Tallon Griekspoor'\n",
      " 'Guilherme Clezar' 'Felix Auger Aliassime' 'Nicola Kuhn' 'Yshai Oliel'\n",
      " 'Khumoun Sultanov' 'Holger Vitus Nodskov Rune' 'Gerardo Lopez Villasenor'\n",
      " 'Daniel Michalski' 'Dragos Dima' 'Edris Fetisleam'\n",
      " 'Palaphoom Kovapitukted' 'Francisco Llanes' 'Alexey Vatutin'\n",
      " 'Bernabe Zapata Miralles' 'Federico Coria' 'Filip Horansky' 'Alex Bolt'\n",
      " 'Rudolf Molleker' 'Jay Clarke' 'Jason Jung' 'Oriol Roca Batalla'\n",
      " 'Daniel Masur' 'Marcos Giron' 'Dominik Koepfer' 'Ugo Humbert'\n",
      " 'Djurabek Karimov' 'Yosuke Watanuki' 'Jonathan Mridha' 'Martin Cuevas'\n",
      " 'Constant Lestienne' 'Salvatore Caruso' 'Oscar Otte' 'Alexei Popyrin'\n",
      " 'Miomir Kecmanovic' 'Kimmer Coppejans' 'Pedro Cachin'\n",
      " 'Juan Ignacio Londero' 'Antonie Hoang' 'Brayden Schnur' 'Hugo Dellien'\n",
      " 'Thiago Seyboth Wild']\n",
      "loser_ht founded for winner_name Seung Ho Ji\n",
      "loser_ht founded for winner_name Miguel Merz\n",
      "loser_ht founded for winner_name Milen Velev\n",
      "loser_ht founded for winner_name Ralph Kok\n",
      "loser_ht founded for winner_name Hideki Kaneko\n",
      "loser_ht founded for winner_name Han Cheol Shin\n",
      "loser_ht founded for winner_name Nicolas Kischkewitz\n",
      "loser_ht founded for winner_name Ryuso Tsujino\n",
      "loser_ht founded for winner_name Axel Finnberg\n",
      "loser_ht founded for winner_name Juan Luis Tati Rascon\n",
      "loser_ht founded for winner_name Bill Barber\n",
      "loser_ht founded for winner_name Mario Rincon\n",
      "loser_ht founded for winner_name Gilles Bastie\n",
      "loser_ht founded for winner_name Howard Joffe\n",
      "loser_ht founded for winner_name Kotaro Miyachi\n",
      "loser_ht founded for winner_name Colin Beecher\n",
      "loser_ht founded for winner_name Alexandre Strambini\n",
      "loser_ht founded for winner_name Daniele Balducci\n",
      "loser_ht founded for winner_name Nir Welgreen\n",
      "loser_ht founded for winner_name Filippo Veglio\n",
      "loser_ht founded for winner_name Federico Dondo\n",
      "loser_ht founded for winner_name Marcus Hilpert\n",
      "loser_ht founded for winner_name Jordi Mas\n",
      "loser_ht founded for winner_name Igor Kornienko\n",
      "loser_ht founded for winner_name Solon Peppas\n",
      "loser_ht founded for winner_name Dejan Petrovic\n",
      "loser_ht founded for winner_name Kalle Flygt\n",
      "loser_ht founded for winner_name Lee Childs\n",
      "loser_ht founded for winner_name Johan Ortegren\n",
      "loser_ht founded for winner_name Jonas Froberg\n",
      "loser_ht founded for winner_name Takahiro Terachi\n",
      "loser_ht founded for winner_name Hiroki Kondo\n",
      "loser_ht founded for winner_name Mounir El Aarej\n",
      "loser_ht founded for winner_name Thomas Blake\n",
      "loser_ht founded for winner_name Maximilian Abel\n",
      "loser_ht founded for winner_name Diogo Rocha\n",
      "loser_ht founded for winner_name Jonathan Marray\n",
      "loser_ht founded for winner_name Ian Flanagan\n",
      "loser_ht founded for winner_name Hao Lu\n",
      "loser_ht founded for winner_name Matias Boeker\n",
      "loser_ht founded for winner_name Ben Qiang Zhu\n",
      "loser_ht founded for winner_name Todd Widom\n",
      "loser_ht founded for winner_name Peng Sun\n",
      "loser_ht founded for winner_name Yu Jr Wang\n",
      "loser_ht founded for winner_name Gustavo Marcaccio\n",
      "loser_ht founded for winner_name Jorge Aguilar\n",
      "loser_ht founded for winner_name Mohammad Ghareeb\n",
      "loser_ht founded for winner_name Slimane Saoudi\n",
      "loser_ht founded for winner_name Stefano Ianni\n",
      "loser_ht founded for winner_name Luka Gregorc\n",
      "loser_ht founded for winner_name James Auckland\n",
      "loser_ht founded for winner_name Gianluca Naso\n",
      "loser_ht founded for winner_name Augustin Gensse\n",
      "loser_ht founded for winner_name Laurent Recouderc\n",
      "loser_ht founded for winner_name Jamie Baker\n",
      "loser_ht founded for winner_name Gabriel Trujillo Soler\n",
      "loser_ht founded for winner_name Samuel Groth\n",
      "loser_ht founded for winner_name Chris Eaton\n",
      "loser_ht founded for winner_name Ervin Eleskovic\n",
      "loser_ht founded for winner_name Rafael Arevalo\n",
      "loser_ht founded for winner_name Adrian Cruciat\n",
      "loser_ht founded for winner_name Martin Slanar\n",
      "loser_ht founded for winner_name Karlis Lejnieks\n",
      "loser_ht founded for winner_name Alexandre Sidorenko\n",
      "loser_ht founded for winner_name Ivan Sergeyev\n",
      "loser_ht founded for winner_name Petar Jelenic\n",
      "loser_ht founded for winner_name Yannick Mertens\n",
      "loser_ht founded for winner_name Leonardo Tavares\n",
      "loser_ht founded for winner_name Daniel Munoz De La Nava\n",
      "loser_ht founded for winner_name Henri Kontinen\n",
      "loser_ht founded for winner_name Martin Fischer\n",
      "loser_ht founded for winner_name Sergei Bubka\n",
      "loser_ht founded for winner_name Ruben Bemelmans\n",
      "loser_ht founded for winner_name Yan Bai\n",
      "loser_ht founded for winner_name Fritz Wolmarans\n",
      "loser_ht founded for winner_name Maxime Teixeira\n",
      "loser_ht founded for winner_name Javier Marti\n",
      "loser_ht founded for winner_name Jonathan Dasnieres De Veigy\n",
      "loser_ht founded for winner_name Guillermo Olaso\n",
      "loser_ht founded for winner_name Pavol Cervenak\n",
      "loser_ht founded for winner_name Bastian Knittel\n",
      "loser_ht founded for winner_name Daniel Kosakowski\n",
      "loser_ht founded for winner_name Pierre Ludovic Duclos\n",
      "loser_ht founded for winner_name Mathieu Rodrigues\n",
      "loser_ht founded for winner_name Nicolas Renavand\n",
      "loser_ht founded for winner_name Ze Zhang\n",
      "loser_ht founded for winner_name Sebastian Rieschick\n"
     ]
    },
    {
     "name": "stdout",
     "output_type": "stream",
     "text": [
      "loser_ht founded for winner_name Dimitar Kutrovsky\n",
      "loser_ht founded for winner_name Facundo Bagnis\n",
      "loser_ht founded for winner_name Sergio Gutierrez Ferrol\n",
      "loser_ht founded for winner_name Inigo Cervantes Huegun\n",
      "loser_ht founded for winner_name Mate Pavic\n",
      "loser_ht founded for winner_name Marco Trungelliti\n",
      "loser_ht founded for winner_name Philipp Oswald\n",
      "loser_ht founded for winner_name Dennis Novikov\n",
      "loser_ht founded for winner_name Clement Reix\n",
      "loser_ht founded for winner_name Hiroki Moriya\n",
      "loser_ht founded for winner_name Patrik Rosenholm\n",
      "loser_ht founded for winner_name Christian Garin\n",
      "loser_ht founded for winner_name Matteo Viola\n",
      "loser_ht founded for winner_name Martin Alund\n",
      "loser_ht founded for winner_name Rhyne Williams\n",
      "loser_ht founded for winner_name Henri Laaksonen\n",
      "loser_ht founded for winner_name Mirza Basic\n",
      "loser_ht founded for winner_name Kyle Edmund\n",
      "loser_ht founded for winner_name Jan Lennard Struff\n",
      "loser_ht founded for winner_name Nils Langer\n",
      "loser_ht founded for winner_name Emilio Gomez\n",
      "loser_ht founded for winner_name Christian Harrison\n",
      "loser_ht founded for winner_name Filip Peliwo\n",
      "loser_ht founded for winner_name Marton Fucsovics\n",
      "loser_ht founded for winner_name Karen Khachanov\n",
      "loser_ht founded for winner_name Jaroslav Pospisil\n",
      "loser_ht founded for winner_name Miloslav Mecir\n",
      "loser_ht founded for winner_name Ramkumar Ramanathan\n",
      "loser_ht founded for winner_name Jiri Vesely\n",
      "loser_ht founded for winner_name Thanasi Kokkinakis\n",
      "loser_ht founded for winner_name Blaz Rola\n",
      "loser_ht founded for winner_name Taro Daniel\n",
      "loser_ht founded for winner_name Alejandro Gonzalez\n",
      "loser_ht founded for winner_name Aleksandr Nedovyesov\n",
      "loser_ht founded for winner_name Roberto Carballes Baena\n",
      "loser_ht founded for winner_name Mate Delic\n",
      "loser_ht founded for winner_name Jason Kubler\n",
      "loser_ht founded for winner_name Nikola Milojevic\n",
      "loser_ht founded for winner_name Axel Michon\n",
      "loser_ht founded for winner_name Tim Puetz\n",
      "loser_ht founded for winner_name Luke Saville\n",
      "loser_ht founded for winner_name Ante Pavic\n",
      "loser_ht founded for winner_name Radu Albot\n",
      "loser_ht founded for winner_name Elias Ymer\n",
      "loser_ht founded for winner_name Christian Lindell\n",
      "loser_ht founded for winner_name Renzo Olivo\n",
      "loser_ht founded for winner_name Austin Krajicek\n",
      "loser_ht founded for winner_name Philip Davydenko\n",
      "loser_ht founded for winner_name Borna Coric\n",
      "loser_ht founded for winner_name Chuhan Wang\n",
      "loser_ht founded for winner_name Michael Venus\n",
      "loser_ht founded for winner_name Nicolas Jarry\n",
      "loser_ht founded for winner_name Gerald Melzer\n",
      "loser_ht founded for winner_name Jared Donaldson\n",
      "loser_ht founded for winner_name Luca Vanni\n",
      "loser_ht founded for winner_name Andrey Rublev\n",
      "loser_ht founded for winner_name Yoshihito Nishioka\n",
      "loser_ht founded for winner_name Facundo Arguello\n",
      "loser_ht founded for winner_name Guido Andreozzi\n",
      "loser_ht founded for winner_name Hyeon Chung\n",
      "loser_ht founded for winner_name Arthur De Greef\n",
      "loser_ht founded for winner_name Nikola Mektic\n",
      "loser_ht founded for winner_name Matteo Donati\n",
      "loser_ht founded for winner_name Andrea Arnaboldi\n",
      "loser_ht founded for winner_name Taylor Harry Fritz\n",
      "loser_ht founded for winner_name Liam Broady\n",
      "loser_ht founded for winner_name John Patrick Smith\n",
      "loser_ht founded for winner_name Daniel Elahi Galan Riveros\n",
      "loser_ht founded for winner_name Alexander Sarkissian\n",
      "loser_ht founded for winner_name Marcelo Demoliner\n",
      "loser_ht founded for winner_name Alejandro Gomez Gb42\n",
      "loser_ht founded for winner_name Adrian Menendez Maceiras\n",
      "loser_ht founded for winner_name Bastian Trinker\n",
      "loser_ht founded for winner_name Jaume Munar\n",
      "loser_ht founded for winner_name Dennis Novak\n",
      "loser_ht founded for winner_name Francis Tiafoe\n",
      "loser_ht founded for winner_name Zhizhen Zhang\n",
      "loser_ht founded for winner_name Aslan Karatsev\n",
      "loser_ht founded for winner_name Thomas Fabbiano\n",
      "loser_ht founded for winner_name Matthew Barton\n",
      "loser_ht founded for winner_name Jordan Thompson\n",
      "loser_ht founded for winner_name Quentin Halys\n",
      "loser_ht founded for winner_name Omar Jasika\n",
      "loser_ht founded for winner_name Noah Rubin\n",
      "loser_ht founded for winner_name Thiago Monteiro\n",
      "loser_ht founded for winner_name Ivan Endara\n",
      "loser_ht founded for winner_name Hans Podlipnik Castillo\n",
      "loser_ht founded for winner_name Gonzalo Lama\n",
      "loser_ht founded for winner_name Peter Nagy\n",
      "loser_ht founded for winner_name Edan Leshem\n",
      "loser_ht founded for winner_name Seong Chan Hong\n",
      "loser_ht founded for winner_name Di Wu\n",
      "loser_ht founded for winner_name Cem Ilkel\n",
      "loser_ht founded for winner_name Alexandar Lazarov\n",
      "loser_ht founded for winner_name Egor Gerasimov\n",
      "loser_ht founded for winner_name Ilya Ivashka\n",
      "loser_ht founded for winner_name Benjamin Hannestad\n",
      "loser_ht founded for winner_name Viktor Durasovic\n",
      "loser_ht founded for winner_name Casper Ruud\n",
      "loser_ht founded for winner_name Lucas Gomez\n",
      "loser_ht founded for winner_name Hans Hach Verdugo\n",
      "loser_ht founded for winner_name Christopher Diaz Figueroa\n",
      "loser_ht founded for winner_name Wilfredo Gonzalez\n",
      "loser_ht founded for winner_name Martins Podzus\n",
      "loser_ht founded for winner_name Mikelis Libietis\n",
      "loser_ht founded for winner_name Lucas Catarina\n",
      "loser_ht founded for winner_name Ricardo Rodriguez\n",
      "loser_ht founded for winner_name Luis David Martinez\n",
      "loser_ht founded for winner_name Jeson Patrombon\n",
      "loser_ht founded for winner_name Ruben Gonzales\n",
      "loser_ht founded for winner_name Francis Casey Alcantara\n",
      "loser_ht founded for winner_name Sebastian Arcila\n",
      "loser_ht founded for winner_name Marcelo Arevalo\n",
      "loser_ht founded for winner_name Ignacio Garcia\n",
      "loser_ht founded for winner_name Tucker Vorster\n",
      "loser_ht founded for winner_name Lloyd George Muirhead Harris\n",
      "loser_ht founded for winner_name Harshana Godamanna\n",
      "loser_ht founded for winner_name Pruchya Isarow\n",
      "loser_ht founded for winner_name Sharmal Dissanayake\n",
      "loser_ht founded for winner_name Mohd Assri Merzuki\n",
      "loser_ht founded for winner_name Jui Chen Hung\n",
      "loser_ht founded for winner_name Nam Hoang Ly\n",
      "loser_ht founded for winner_name Thien Nguyen Hoang\n",
      "loser_ht founded for winner_name Harri Heliovaara\n",
      "loser_ht founded for winner_name Takanyi Garanganga\n",
      "loser_ht founded for winner_name Hubert Hurkacz\n",
      "loser_ht founded for winner_name Marco Cecchinato\n",
      "loser_ht founded for winner_name Jozef Kovalik\n",
      "loser_ht founded for winner_name Bjorn Fratangelo\n",
      "loser_ht founded for winner_name Tommy Paul\n",
      "loser_ht founded for winner_name Adam Pavlasek\n",
      "loser_ht founded for winner_name Mathias Bourgue\n",
      "loser_ht founded for winner_name Stefan Kozlov\n",
      "loser_ht founded for winner_name Daniil Medvedev\n",
      "loser_ht founded for winner_name Ernesto Escobedo\n",
      "loser_ht founded for winner_name Marcus Willis\n",
      "loser_ht founded for winner_name Carl Soderlund\n",
      "loser_ht founded for winner_name Calvin Hemery\n",
      "loser_ht founded for winner_name Louis Wessels\n",
      "loser_ht founded for winner_name Nicolas Kicker\n",
      "loser_ht founded for winner_name Saketh Myneni\n",
      "loser_ht founded for winner_name Yong Kyu Lim\n",
      "loser_ht founded for winner_name Matwe Middelkoop\n",
      "loser_ht founded for winner_name Mikael Torpegaard\n",
      "loser_ht founded for winner_name Yaraslau Shyla\n",
      "loser_ht founded for winner_name Lukas Mugevicius\n",
      "loser_ht founded for winner_name Mauricio Echazu\n",
      "loser_ht founded for winner_name Tristan Lamasine\n",
      "loser_ht founded for winner_name Nikola Cacic\n",
      "loser_ht founded for winner_name Steven Diez\n",
      "loser_ht founded for winner_name Denis Shapovalov\n",
      "loser_ht founded for winner_name Reilly Opelka\n",
      "loser_ht founded for winner_name Jan Satral\n",
      "loser_ht founded for winner_name Tomislav Brkic\n",
      "loser_ht founded for winner_name Nerman Fatic\n",
      "loser_ht founded for winner_name Kuan Yi Lee\n",
      "loser_ht founded for winner_name Tsung Hua Yang\n",
      "loser_ht founded for winner_name Joris De Loore\n",
      "loser_ht founded for winner_name Kamil Majchrzak\n",
      "loser_ht founded for winner_name Antoine Bellier\n",
      "loser_ht founded for winner_name Andrew Whittington\n",
      "loser_ht founded for winner_name Alexander Bublik\n",
      "loser_ht founded for winner_name Mikael Ymer\n",
      "loser_ht founded for winner_name Alex De Minaur\n",
      "loser_ht founded for winner_name Frederico Ferreira Silva\n",
      "loser_ht founded for winner_name Roberto Quiroz\n",
      "loser_ht founded for winner_name Gonzalo Escobar\n",
      "loser_ht founded for winner_name Jordi Munoz Abreu\n",
      "loser_ht founded for winner_name Ayed Zatar\n",
      "loser_ht founded for winner_name Darian King\n",
      "loser_ht founded for winner_name Bruno Britez\n",
      "loser_ht founded for winner_name Federico Zeballos\n",
      "loser_ht founded for winner_name Nicolaas Scholtz\n",
      "loser_ht founded for winner_name Vladimir Ivanov\n",
      "loser_ht founded for winner_name George Tsivadze\n",
      "loser_ht founded for winner_name David Agung Susanto\n",
      "loser_ht founded for winner_name Alberto Lim\n",
      "loser_ht founded for winner_name Jirat Navasirisomboon\n",
      "loser_ht founded for winner_name Wishaya Trongcharoenchaikul\n",
      "loser_ht founded for winner_name Antso Rakotondramanga\n",
      "loser_ht founded for winner_name Soren Hess Olesen\n",
      "loser_ht founded for winner_name Manuel Sanchez\n",
      "loser_ht founded for winner_name Simen Sunde Bratholm\n",
      "loser_ht founded for winner_name Aqeel Khan\n",
      "loser_ht founded for winner_name Isak Arvidsson\n",
      "loser_ht founded for winner_name Altug Celikbilek\n",
      "loser_ht founded for winner_name Hong Kit Jack Wong\n",
      "loser_ht founded for winner_name Yasutaka Uchiyama\n",
      "loser_ht founded for winner_name Federico Gaio\n",
      "loser_ht founded for winner_name Zhe Li\n",
      "loser_ht founded for winner_name Yibing Wu\n",
      "loser_ht founded for winner_name Norbert Gombos\n",
      "loser_ht founded for winner_name Dmitry Popko\n",
      "loser_ht founded for winner_name Prajnesh Gunneswaran\n",
      "loser_ht founded for winner_name Temur Ismailov\n",
      "loser_ht founded for winner_name Laslo Djere\n",
      "loser_ht founded for winner_name Gianluigi Quinzi\n",
      "loser_ht founded for winner_name Amine Ahouda\n"
     ]
    },
    {
     "name": "stdout",
     "output_type": "stream",
     "text": [
      "loser_ht founded for winner_name Joao Domingues\n",
      "loser_ht founded for winner_name Yannick Hanfmann\n",
      "loser_ht founded for winner_name Benjamin Bonzi\n",
      "loser_ht founded for winner_name Stefano Napolitano\n",
      "loser_ht founded for winner_name Daniel Altmaier\n",
      "loser_ht founded for winner_name Cameron Norrie\n",
      "loser_ht founded for winner_name Sebastian Ofner\n",
      "loser_ht founded for winner_name Akira Santillan\n",
      "loser_ht founded for winner_name Christopher Eubanks\n",
      "loser_ht founded for winner_name Gleb Sakharov\n",
      "loser_ht founded for winner_name Miljan Zekic\n",
      "loser_ht founded for winner_name Tennys Sandgren\n",
      "loser_ht founded for winner_name Mitchell Krueger\n",
      "loser_ht founded for winner_name Stefano Travaglia\n",
      "loser_ht founded for winner_name Markus Eriksson\n",
      "loser_ht founded for winner_name Viktor Galovic\n",
      "loser_ht founded for winner_name Yannick Maden\n",
      "loser_ht founded for winner_name Stefanos Tsitsipas\n",
      "loser_ht founded for winner_name Michael Mmoh\n",
      "loser_ht founded for winner_name Matteo Berrettini\n",
      "loser_ht founded for winner_name Ricardo Ojeda Lara\n",
      "loser_ht founded for winner_name Mackenzie Mcdonald\n",
      "loser_ht founded for winner_name Maximilian Marterer\n",
      "loser_ht founded for winner_name Lorenzo Sonego\n",
      "loser_ht founded for winner_name Jose Hernandez\n",
      "loser_ht founded for winner_name Joao Pedro Sorgi\n",
      "loser_ht founded for winner_name Zsombor Piros\n",
      "loser_ht founded for winner_name Marc Andrea Huesler\n",
      "loser_ht founded for winner_name Pedja Krstin\n",
      "loser_ht founded for winner_name Juan Pablo Varillas Patino Samudio\n",
      "loser_ht founded for winner_name Karim Mohamed Maamoun\n",
      "loser_ht founded for winner_name Youssef Hossam\n",
      "loser_ht founded for winner_name Peter Bothwell\n",
      "loser_ht founded for winner_name Benjamin Hassan\n",
      "loser_ht founded for winner_name Chun Hsin Tseng\n",
      "loser_ht founded for winner_name John Bryan Decasa Otico\n",
      "loser_ht founded for winner_name Luis Patino\n",
      "loser_ht founded for winner_name Ugo Nastasi\n",
      "loser_ht founded for winner_name Emil Ruusuvuori\n",
      "loser_ht founded for winner_name Benjamin Lock\n",
      "loser_ht founded for winner_name Carlos Taberner\n",
      "loser_ht founded for winner_name Corentin Moutet\n",
      "loser_ht founded for winner_name Tallon Griekspoor\n",
      "loser_ht founded for winner_name Guilherme Clezar\n",
      "loser_ht founded for winner_name Felix Auger Aliassime\n",
      "loser_ht founded for winner_name Nicola Kuhn\n",
      "loser_ht founded for winner_name Yshai Oliel\n",
      "loser_ht founded for winner_name Gerardo Lopez Villasenor\n",
      "loser_ht founded for winner_name Palaphoom Kovapitukted\n",
      "loser_ht founded for winner_name Alexey Vatutin\n",
      "loser_ht founded for winner_name Bernabe Zapata Miralles\n",
      "loser_ht founded for winner_name Federico Coria\n",
      "loser_ht founded for winner_name Filip Horansky\n",
      "loser_ht founded for winner_name Alex Bolt\n",
      "loser_ht founded for winner_name Rudolf Molleker\n",
      "loser_ht founded for winner_name Jay Clarke\n",
      "loser_ht founded for winner_name Jason Jung\n",
      "loser_ht founded for winner_name Oriol Roca Batalla\n",
      "loser_ht founded for winner_name Daniel Masur\n",
      "loser_ht founded for winner_name Marcos Giron\n",
      "loser_ht founded for winner_name Dominik Koepfer\n",
      "loser_ht founded for winner_name Ugo Humbert\n",
      "loser_ht founded for winner_name Djurabek Karimov\n",
      "loser_ht founded for winner_name Yosuke Watanuki\n",
      "loser_ht founded for winner_name Jonathan Mridha\n",
      "loser_ht founded for winner_name Martin Cuevas\n",
      "loser_ht founded for winner_name Constant Lestienne\n",
      "loser_ht founded for winner_name Salvatore Caruso\n",
      "loser_ht founded for winner_name Oscar Otte\n",
      "loser_ht founded for winner_name Alexei Popyrin\n",
      "loser_ht founded for winner_name Miomir Kecmanovic\n",
      "loser_ht founded for winner_name Kimmer Coppejans\n",
      "loser_ht founded for winner_name Pedro Cachin\n",
      "loser_ht founded for winner_name Juan Ignacio Londero\n",
      "loser_ht founded for winner_name Antonie Hoang\n",
      "loser_ht founded for winner_name Brayden Schnur\n",
      "loser_ht founded for winner_name Hugo Dellien\n",
      "loser_ht founded for winner_name Thiago Seyboth Wild\n"
     ]
    }
   ],
   "source": [
    "# Get the loser with nan loser_ht\n",
    "nan_ht_names = df[df[\"winner_ht\"]\\\n",
    "                                .isnull()][\"winner_name\"].unique()\n",
    "print(nan_ht_names)\n",
    "\n",
    "# See if the loser_ht is defined for another game\n",
    "# when the player is a loser\n",
    "# save in verify_name, the players that already have a ht\n",
    "verify_name = []\n",
    "for name in nan_ht_names:\n",
    "    ht = df[df[\"loser_name\"] == name][\"loser_ht\"]\n",
    "    if ht.isnull().all() == False:\n",
    "#         print(ht)\n",
    "        verify_name.append(name)\n",
    "        print(\"loser_ht founded for winner_name \" + name)\n",
    "# when the player is a winner\n",
    "for name in nan_hand_names:\n",
    "    ht = df[df[\"winner_name\"] == name][\"winner_ht\"]\n",
    "    if ht.isnull().all() == False:\n",
    "        verify_name.append(name)\n",
    "        print(\"winner_ht founded for winner_name \" + name)"
   ]
  },
  {
   "cell_type": "code",
   "execution_count": 40,
   "metadata": {},
   "outputs": [],
   "source": [
    "# affect to players in verify_name the mean_loser_ht\n",
    "for name in verify_name:\n",
    "    for row_index in df[df[\"winner_name\"] == name].index:\n",
    "        df.loc[row_index,'winner_ht'] = mean_loser_ht"
   ]
  },
  {
   "cell_type": "code",
   "execution_count": 41,
   "metadata": {},
   "outputs": [],
   "source": [
    "mean_winner_ht = df[\"winner_ht\"].mean()\n",
    "df[\"winner_ht\"] = df[\"winner_ht\"]\\\n",
    "                                .fillna(mean_winner_ht)"
   ]
  },
  {
   "cell_type": "markdown",
   "metadata": {},
   "source": [
    "### winner_seed"
   ]
  },
  {
   "cell_type": "code",
   "execution_count": 42,
   "metadata": {},
   "outputs": [
    {
     "name": "stdout",
     "output_type": "stream",
     "text": [
      "46475\n"
     ]
    }
   ],
   "source": [
    "print(df[\"winner_seed\"].isnull().sum())\n",
    "df = df.drop(labels=[\"winner_seed\"], axis=1)"
   ]
  },
  {
   "cell_type": "code",
   "execution_count": 43,
   "metadata": {},
   "outputs": [
    {
     "data": {
      "text/plain": [
       "<matplotlib.axes._subplots.AxesSubplot at 0x227d273cc18>"
      ]
     },
     "execution_count": 43,
     "metadata": {},
     "output_type": "execute_result"
    },
    {
     "data": {
      "image/png": "[encoded data removed]",
      "text/plain": [
       "<Figure size 432x288 with 1 Axes>"
      ]
     },
     "metadata": {
      "needs_background": "light"
     },
     "output_type": "display_data"
    }
   ],
   "source": [
    "import seaborn as sns\n",
    "sns.heatmap(df.isnull(), cbar=False)"
   ]
  },
  {
   "cell_type": "markdown",
   "metadata": {},
   "source": [
    "# Organize the data"
   ]
  },
  {
   "cell_type": "code",
   "execution_count": 45,
   "metadata": {},
   "outputs": [
    {
     "data": {
      "text/html": [
       "<div>\n",
       "<style scoped>\n",
       "    .dataframe tbody tr th:only-of-type {\n",
       "        vertical-align: middle;\n",
       "    }\n",
       "\n",
       "    .dataframe tbody tr th {\n",
       "        vertical-align: top;\n",
       "    }\n",
       "\n",
       "    .dataframe thead th {\n",
       "        text-align: right;\n",
       "    }\n",
       "</style>\n",
       "<table border=\"1\" class=\"dataframe\">\n",
       "  <thead>\n",
       "    <tr style=\"text-align: right;\">\n",
       "      <th></th>\n",
       "      <th>best_of</th>\n",
       "      <th>l_1stIn</th>\n",
       "      <th>l_1stWon</th>\n",
       "      <th>l_2ndWon</th>\n",
       "      <th>l_SvGms</th>\n",
       "      <th>l_ace</th>\n",
       "      <th>l_bpFaced</th>\n",
       "      <th>l_bpSaved</th>\n",
       "      <th>l_df</th>\n",
       "      <th>l_svpt</th>\n",
       "      <th>...</th>\n",
       "      <th>w_df</th>\n",
       "      <th>w_svpt</th>\n",
       "      <th>winner_age</th>\n",
       "      <th>winner_hand</th>\n",
       "      <th>winner_ht</th>\n",
       "      <th>winner_id</th>\n",
       "      <th>winner_ioc</th>\n",
       "      <th>winner_name</th>\n",
       "      <th>winner_rank</th>\n",
       "      <th>winner_rank_points</th>\n",
       "    </tr>\n",
       "  </thead>\n",
       "  <tbody>\n",
       "    <tr>\n",
       "      <th>169685</th>\n",
       "      <td>3</td>\n",
       "      <td>54.0</td>\n",
       "      <td>43.0</td>\n",
       "      <td>16.0</td>\n",
       "      <td>15.0</td>\n",
       "      <td>13.0</td>\n",
       "      <td>5.0</td>\n",
       "      <td>3.0</td>\n",
       "      <td>1.0</td>\n",
       "      <td>83.0</td>\n",
       "      <td>...</td>\n",
       "      <td>2.0</td>\n",
       "      <td>92.0</td>\n",
       "      <td>22.74</td>\n",
       "      <td>R</td>\n",
       "      <td>184.954162</td>\n",
       "      <td>106426</td>\n",
       "      <td>CHI</td>\n",
       "      <td>Christian Garin</td>\n",
       "      <td>92.0</td>\n",
       "      <td>620.0</td>\n",
       "    </tr>\n",
       "    <tr>\n",
       "      <th>169686</th>\n",
       "      <td>3</td>\n",
       "      <td>23.0</td>\n",
       "      <td>12.0</td>\n",
       "      <td>5.0</td>\n",
       "      <td>7.0</td>\n",
       "      <td>0.0</td>\n",
       "      <td>8.0</td>\n",
       "      <td>3.0</td>\n",
       "      <td>2.0</td>\n",
       "      <td>40.0</td>\n",
       "      <td>...</td>\n",
       "      <td>1.0</td>\n",
       "      <td>40.0</td>\n",
       "      <td>20.18</td>\n",
       "      <td>R</td>\n",
       "      <td>184.954162</td>\n",
       "      <td>134770</td>\n",
       "      <td>NOR</td>\n",
       "      <td>Casper Ruud</td>\n",
       "      <td>108.0</td>\n",
       "      <td>527.0</td>\n",
       "    </tr>\n",
       "    <tr>\n",
       "      <th>169687</th>\n",
       "      <td>3</td>\n",
       "      <td>56.0</td>\n",
       "      <td>39.0</td>\n",
       "      <td>13.0</td>\n",
       "      <td>12.0</td>\n",
       "      <td>5.0</td>\n",
       "      <td>5.0</td>\n",
       "      <td>3.0</td>\n",
       "      <td>1.0</td>\n",
       "      <td>80.0</td>\n",
       "      <td>...</td>\n",
       "      <td>1.0</td>\n",
       "      <td>76.0</td>\n",
       "      <td>28.78</td>\n",
       "      <td>L</td>\n",
       "      <td>185.000000</td>\n",
       "      <td>105550</td>\n",
       "      <td>ARG</td>\n",
       "      <td>Guido Pella</td>\n",
       "      <td>48.0</td>\n",
       "      <td>975.0</td>\n",
       "    </tr>\n",
       "    <tr>\n",
       "      <th>169688</th>\n",
       "      <td>3</td>\n",
       "      <td>34.0</td>\n",
       "      <td>24.0</td>\n",
       "      <td>11.0</td>\n",
       "      <td>10.0</td>\n",
       "      <td>5.0</td>\n",
       "      <td>6.0</td>\n",
       "      <td>3.0</td>\n",
       "      <td>0.0</td>\n",
       "      <td>57.0</td>\n",
       "      <td>...</td>\n",
       "      <td>3.0</td>\n",
       "      <td>57.0</td>\n",
       "      <td>22.74</td>\n",
       "      <td>R</td>\n",
       "      <td>184.954162</td>\n",
       "      <td>106426</td>\n",
       "      <td>CHI</td>\n",
       "      <td>Christian Garin</td>\n",
       "      <td>92.0</td>\n",
       "      <td>620.0</td>\n",
       "    </tr>\n",
       "    <tr>\n",
       "      <th>169689</th>\n",
       "      <td>3</td>\n",
       "      <td>35.0</td>\n",
       "      <td>26.0</td>\n",
       "      <td>9.0</td>\n",
       "      <td>11.0</td>\n",
       "      <td>5.0</td>\n",
       "      <td>7.0</td>\n",
       "      <td>3.0</td>\n",
       "      <td>4.0</td>\n",
       "      <td>65.0</td>\n",
       "      <td>...</td>\n",
       "      <td>2.0</td>\n",
       "      <td>65.0</td>\n",
       "      <td>28.78</td>\n",
       "      <td>L</td>\n",
       "      <td>185.000000</td>\n",
       "      <td>105550</td>\n",
       "      <td>ARG</td>\n",
       "      <td>Guido Pella</td>\n",
       "      <td>48.0</td>\n",
       "      <td>975.0</td>\n",
       "    </tr>\n",
       "  </tbody>\n",
       "</table>\n",
       "<p>5 rows × 43 columns</p>\n",
       "</div>"
      ],
      "text/plain": [
       "        best_of  l_1stIn  l_1stWon  l_2ndWon  l_SvGms  l_ace  l_bpFaced  \\\n",
       "169685        3     54.0      43.0      16.0     15.0   13.0        5.0   \n",
       "169686        3     23.0      12.0       5.0      7.0    0.0        8.0   \n",
       "169687        3     56.0      39.0      13.0     12.0    5.0        5.0   \n",
       "169688        3     34.0      24.0      11.0     10.0    5.0        6.0   \n",
       "169689        3     35.0      26.0       9.0     11.0    5.0        7.0   \n",
       "\n",
       "        l_bpSaved  l_df  l_svpt  ...  w_df w_svpt  winner_age  winner_hand  \\\n",
       "169685        3.0   1.0    83.0  ...   2.0   92.0       22.74            R   \n",
       "169686        3.0   2.0    40.0  ...   1.0   40.0       20.18            R   \n",
       "169687        3.0   1.0    80.0  ...   1.0   76.0       28.78            L   \n",
       "169688        3.0   0.0    57.0  ...   3.0   57.0       22.74            R   \n",
       "169689        3.0   4.0    65.0  ...   2.0   65.0       28.78            L   \n",
       "\n",
       "         winner_ht winner_id  winner_ioc      winner_name  winner_rank  \\\n",
       "169685  184.954162    106426         CHI  Christian Garin         92.0   \n",
       "169686  184.954162    134770         NOR      Casper Ruud        108.0   \n",
       "169687  185.000000    105550         ARG      Guido Pella         48.0   \n",
       "169688  184.954162    106426         CHI  Christian Garin         92.0   \n",
       "169689  185.000000    105550         ARG      Guido Pella         48.0   \n",
       "\n",
       "       winner_rank_points  \n",
       "169685              620.0  \n",
       "169686              527.0  \n",
       "169687              975.0  \n",
       "169688              620.0  \n",
       "169689              975.0  \n",
       "\n",
       "[5 rows x 43 columns]"
      ]
     },
     "execution_count": 45,
     "metadata": {},
     "output_type": "execute_result"
    }
   ],
   "source": [
    "df.tail()"
   ]
  },
  {
   "cell_type": "code",
   "execution_count": 46,
   "metadata": {},
   "outputs": [
    {
     "name": "stderr",
     "output_type": "stream",
     "text": [
      "C:\\Users\\Neil\\Anaconda3\\lib\\site-packages\\ipykernel_launcher.py:8: SettingWithCopyWarning: \n",
      "A value is trying to be set on a copy of a slice from a DataFrame.\n",
      "Try using .loc[row_indexer,col_indexer] = value instead\n",
      "\n",
      "See the caveats in the documentation: http://pandas.pydata.org/pandas-docs/stable/user_guide/indexing.html#returning-a-view-versus-a-copy\n",
      "  \n"
     ]
    }
   ],
   "source": [
    "#dataframe winner\n",
    "columns_w = [\n",
    "    \"best_of\", \"w_1stIn\", \"w_1stWon\", \"w_2ndWon\", \"w_SvGms\", \"w_ace\", \"w_bpFaced\", \"w_bpSaved\",\n",
    "    \"w_df\", \"w_svpt\", \"winner_age\", \"winner_hand\", \"winner_ht\", \"winner_id\", \"winner_ioc\",\n",
    "    \"winner_name\", \"winner_rank\", \"winner_rank_points\", \"minutes\", \"round\", \"score\",\n",
    "    \"surface\", \"tourney_date\", \"tourney_id\", \"tourney_level\", \"tourney_name\" ]\n",
    "df_w = df[columns_w]\n",
    "df_w[\"label\"] = 1"
   ]
  },
  {
   "cell_type": "code",
   "execution_count": 47,
   "metadata": {},
   "outputs": [],
   "source": [
    "# dataframe loser\n",
    "df_l = df.copy()\n",
    "df_l = df_l.iloc[:,:26]\n",
    "df_l.columns = columns_w\n",
    "df_l[\"label\"] = 0"
   ]
  },
  {
   "cell_type": "code",
   "execution_count": 48,
   "metadata": {},
   "outputs": [
    {
     "data": {
      "text/html": [
       "<div>\n",
       "<style scoped>\n",
       "    .dataframe tbody tr th:only-of-type {\n",
       "        vertical-align: middle;\n",
       "    }\n",
       "\n",
       "    .dataframe tbody tr th {\n",
       "        vertical-align: top;\n",
       "    }\n",
       "\n",
       "    .dataframe thead th {\n",
       "        text-align: right;\n",
       "    }\n",
       "</style>\n",
       "<table border=\"1\" class=\"dataframe\">\n",
       "  <thead>\n",
       "    <tr style=\"text-align: right;\">\n",
       "      <th></th>\n",
       "      <th>best_of</th>\n",
       "      <th>w_1stIn</th>\n",
       "      <th>w_1stWon</th>\n",
       "      <th>w_2ndWon</th>\n",
       "      <th>w_SvGms</th>\n",
       "      <th>w_ace</th>\n",
       "      <th>w_bpFaced</th>\n",
       "      <th>w_bpSaved</th>\n",
       "      <th>w_df</th>\n",
       "      <th>w_svpt</th>\n",
       "      <th>...</th>\n",
       "      <th>winner_rank_points</th>\n",
       "      <th>minutes</th>\n",
       "      <th>round</th>\n",
       "      <th>score</th>\n",
       "      <th>surface</th>\n",
       "      <th>tourney_date</th>\n",
       "      <th>tourney_id</th>\n",
       "      <th>tourney_level</th>\n",
       "      <th>tourney_name</th>\n",
       "      <th>label</th>\n",
       "    </tr>\n",
       "  </thead>\n",
       "  <tbody>\n",
       "    <tr>\n",
       "      <th>0</th>\n",
       "      <td>3</td>\n",
       "      <td>55.0</td>\n",
       "      <td>39.0</td>\n",
       "      <td>25.0</td>\n",
       "      <td>15.0</td>\n",
       "      <td>6.0</td>\n",
       "      <td>4.0</td>\n",
       "      <td>2.0</td>\n",
       "      <td>2.0</td>\n",
       "      <td>96.0</td>\n",
       "      <td>...</td>\n",
       "      <td>NaN</td>\n",
       "      <td>130.0</td>\n",
       "      <td>R32</td>\n",
       "      <td>6-4 3-6 7-6(2)</td>\n",
       "      <td>Hard</td>\n",
       "      <td>19901231</td>\n",
       "      <td>1991-339</td>\n",
       "      <td>A</td>\n",
       "      <td>Adelaide</td>\n",
       "      <td>1</td>\n",
       "    </tr>\n",
       "    <tr>\n",
       "      <th>1</th>\n",
       "      <td>3</td>\n",
       "      <td>56.0</td>\n",
       "      <td>45.0</td>\n",
       "      <td>25.0</td>\n",
       "      <td>15.0</td>\n",
       "      <td>19.0</td>\n",
       "      <td>10.0</td>\n",
       "      <td>9.0</td>\n",
       "      <td>4.0</td>\n",
       "      <td>101.0</td>\n",
       "      <td>...</td>\n",
       "      <td>NaN</td>\n",
       "      <td>119.0</td>\n",
       "      <td>R32</td>\n",
       "      <td>6-3 3-6 7-6(6)</td>\n",
       "      <td>Hard</td>\n",
       "      <td>19901231</td>\n",
       "      <td>1991-339</td>\n",
       "      <td>A</td>\n",
       "      <td>Adelaide</td>\n",
       "      <td>1</td>\n",
       "    </tr>\n",
       "    <tr>\n",
       "      <th>2</th>\n",
       "      <td>3</td>\n",
       "      <td>31.0</td>\n",
       "      <td>24.0</td>\n",
       "      <td>13.0</td>\n",
       "      <td>8.0</td>\n",
       "      <td>6.0</td>\n",
       "      <td>1.0</td>\n",
       "      <td>1.0</td>\n",
       "      <td>1.0</td>\n",
       "      <td>54.0</td>\n",
       "      <td>...</td>\n",
       "      <td>NaN</td>\n",
       "      <td>71.0</td>\n",
       "      <td>R32</td>\n",
       "      <td>6-0 6-4</td>\n",
       "      <td>Hard</td>\n",
       "      <td>19901231</td>\n",
       "      <td>1991-339</td>\n",
       "      <td>A</td>\n",
       "      <td>Adelaide</td>\n",
       "      <td>1</td>\n",
       "    </tr>\n",
       "    <tr>\n",
       "      <th>3</th>\n",
       "      <td>3</td>\n",
       "      <td>40.0</td>\n",
       "      <td>30.0</td>\n",
       "      <td>14.0</td>\n",
       "      <td>9.0</td>\n",
       "      <td>2.0</td>\n",
       "      <td>3.0</td>\n",
       "      <td>3.0</td>\n",
       "      <td>0.0</td>\n",
       "      <td>60.0</td>\n",
       "      <td>...</td>\n",
       "      <td>NaN</td>\n",
       "      <td>85.0</td>\n",
       "      <td>R32</td>\n",
       "      <td>7-6(2) 6-1</td>\n",
       "      <td>Hard</td>\n",
       "      <td>19901231</td>\n",
       "      <td>1991-339</td>\n",
       "      <td>A</td>\n",
       "      <td>Adelaide</td>\n",
       "      <td>1</td>\n",
       "    </tr>\n",
       "    <tr>\n",
       "      <th>4</th>\n",
       "      <td>3</td>\n",
       "      <td>40.0</td>\n",
       "      <td>33.0</td>\n",
       "      <td>14.0</td>\n",
       "      <td>10.0</td>\n",
       "      <td>4.0</td>\n",
       "      <td>8.0</td>\n",
       "      <td>7.0</td>\n",
       "      <td>2.0</td>\n",
       "      <td>72.0</td>\n",
       "      <td>...</td>\n",
       "      <td>NaN</td>\n",
       "      <td>90.0</td>\n",
       "      <td>R32</td>\n",
       "      <td>7-5 6-3</td>\n",
       "      <td>Hard</td>\n",
       "      <td>19901231</td>\n",
       "      <td>1991-339</td>\n",
       "      <td>A</td>\n",
       "      <td>Adelaide</td>\n",
       "      <td>1</td>\n",
       "    </tr>\n",
       "  </tbody>\n",
       "</table>\n",
       "<p>5 rows × 27 columns</p>\n",
       "</div>"
      ],
      "text/plain": [
       "   best_of  w_1stIn  w_1stWon  w_2ndWon  w_SvGms  w_ace  w_bpFaced  w_bpSaved  \\\n",
       "0        3     55.0      39.0      25.0     15.0    6.0        4.0        2.0   \n",
       "1        3     56.0      45.0      25.0     15.0   19.0       10.0        9.0   \n",
       "2        3     31.0      24.0      13.0      8.0    6.0        1.0        1.0   \n",
       "3        3     40.0      30.0      14.0      9.0    2.0        3.0        3.0   \n",
       "4        3     40.0      33.0      14.0     10.0    4.0        8.0        7.0   \n",
       "\n",
       "   w_df  w_svpt  ...  winner_rank_points minutes  round           score  \\\n",
       "0   2.0    96.0  ...                 NaN   130.0    R32  6-4 3-6 7-6(2)   \n",
       "1   4.0   101.0  ...                 NaN   119.0    R32  6-3 3-6 7-6(6)   \n",
       "2   1.0    54.0  ...                 NaN    71.0    R32         6-0 6-4   \n",
       "3   0.0    60.0  ...                 NaN    85.0    R32      7-6(2) 6-1   \n",
       "4   2.0    72.0  ...                 NaN    90.0    R32         7-5 6-3   \n",
       "\n",
       "  surface tourney_date  tourney_id  tourney_level  tourney_name label  \n",
       "0    Hard     19901231    1991-339              A      Adelaide     1  \n",
       "1    Hard     19901231    1991-339              A      Adelaide     1  \n",
       "2    Hard     19901231    1991-339              A      Adelaide     1  \n",
       "3    Hard     19901231    1991-339              A      Adelaide     1  \n",
       "4    Hard     19901231    1991-339              A      Adelaide     1  \n",
       "\n",
       "[5 rows x 27 columns]"
      ]
     },
     "execution_count": 48,
     "metadata": {},
     "output_type": "execute_result"
    }
   ],
   "source": [
    "# players datafame\n",
    "player_df = pd.concat([df_w, df_l], ignore_index=True)\n",
    "player_df.head()"
   ]
  },
  {
   "cell_type": "markdown",
   "metadata": {},
   "source": [
    "### III. Handle with categorical features"
   ]
  },
  {
   "cell_type": "code",
   "execution_count": 49,
   "metadata": {},
   "outputs": [
    {
     "data": {
      "text/plain": [
       "best_of                 int64\n",
       "w_1stIn               float64\n",
       "w_1stWon              float64\n",
       "w_2ndWon              float64\n",
       "w_SvGms               float64\n",
       "w_ace                 float64\n",
       "w_bpFaced             float64\n",
       "w_bpSaved             float64\n",
       "w_df                  float64\n",
       "w_svpt                float64\n",
       "winner_age            float64\n",
       "winner_hand            object\n",
       "winner_ht             float64\n",
       "winner_id               int64\n",
       "winner_ioc             object\n",
       "winner_name            object\n",
       "winner_rank           float64\n",
       "winner_rank_points    float64\n",
       "minutes               float64\n",
       "round                  object\n",
       "score                  object\n",
       "surface                object\n",
       "tourney_date            int64\n",
       "tourney_id             object\n",
       "tourney_level          object\n",
       "tourney_name           object\n",
       "label                   int64\n",
       "dtype: object"
      ]
     },
     "execution_count": 49,
     "metadata": {},
     "output_type": "execute_result"
    }
   ],
   "source": [
    "player_df.dtypes"
   ]
  },
  {
   "cell_type": "code",
   "execution_count": 50,
   "metadata": {},
   "outputs": [
    {
     "data": {
      "text/plain": [
       "R32     60312\n",
       "R16     31164\n",
       "R64     27736\n",
       "R128    16914\n",
       "QF      15618\n",
       "SF       7950\n",
       "F        4040\n",
       "RR       3082\n",
       "BR          4\n",
       "Name: round, dtype: int64"
      ]
     },
     "execution_count": 50,
     "metadata": {},
     "output_type": "execute_result"
    }
   ],
   "source": [
    "player_df[\"round\"].value_counts()"
   ]
  },
  {
   "cell_type": "code",
   "execution_count": 51,
   "metadata": {},
   "outputs": [],
   "source": [
    "player_df = player_df[player_df[\"round\"] != 'RR']\n",
    "player_df = player_df[player_df[\"round\"] != 'BR']"
   ]
  },
  {
   "cell_type": "code",
   "execution_count": 52,
   "metadata": {},
   "outputs": [
    {
     "data": {
      "text/plain": [
       "R32     60312\n",
       "R16     31164\n",
       "R64     27736\n",
       "R128    16914\n",
       "QF      15618\n",
       "SF       7950\n",
       "F        4040\n",
       "Name: round, dtype: int64"
      ]
     },
     "execution_count": 52,
     "metadata": {},
     "output_type": "execute_result"
    }
   ],
   "source": [
    "player_df[\"round\"].value_counts()"
   ]
  },
  {
   "cell_type": "code",
   "execution_count": 53,
   "metadata": {},
   "outputs": [],
   "source": [
    "df_round = pd.get_dummies(player_df['round'])"
   ]
  },
  {
   "cell_type": "code",
   "execution_count": 54,
   "metadata": {},
   "outputs": [],
   "source": [
    "player_df = pd.concat([player_df,df_round],  sort = False, axis = 1)"
   ]
  },
  {
   "cell_type": "code",
   "execution_count": 55,
   "metadata": {},
   "outputs": [
    {
     "data": {
      "text/plain": [
       "R32     60312\n",
       "R16     31164\n",
       "R64     27736\n",
       "R128    16914\n",
       "QF      15618\n",
       "SF       7950\n",
       "F        4040\n",
       "Name: round, dtype: int64"
      ]
     },
     "execution_count": 55,
     "metadata": {},
     "output_type": "execute_result"
    }
   ],
   "source": [
    "player_df[\"round\"].value_counts()"
   ]
  },
  {
   "cell_type": "code",
   "execution_count": 56,
   "metadata": {},
   "outputs": [
    {
     "data": {
      "text/html": [
       "<div>\n",
       "<style scoped>\n",
       "    .dataframe tbody tr th:only-of-type {\n",
       "        vertical-align: middle;\n",
       "    }\n",
       "\n",
       "    .dataframe tbody tr th {\n",
       "        vertical-align: top;\n",
       "    }\n",
       "\n",
       "    .dataframe thead th {\n",
       "        text-align: right;\n",
       "    }\n",
       "</style>\n",
       "<table border=\"1\" class=\"dataframe\">\n",
       "  <thead>\n",
       "    <tr style=\"text-align: right;\">\n",
       "      <th></th>\n",
       "      <th>best_of</th>\n",
       "      <th>w_1stIn</th>\n",
       "      <th>w_1stWon</th>\n",
       "      <th>w_2ndWon</th>\n",
       "      <th>w_SvGms</th>\n",
       "      <th>w_ace</th>\n",
       "      <th>w_bpFaced</th>\n",
       "      <th>w_bpSaved</th>\n",
       "      <th>w_df</th>\n",
       "      <th>w_svpt</th>\n",
       "      <th>...</th>\n",
       "      <th>tourney_level</th>\n",
       "      <th>tourney_name</th>\n",
       "      <th>label</th>\n",
       "      <th>F</th>\n",
       "      <th>QF</th>\n",
       "      <th>R128</th>\n",
       "      <th>R16</th>\n",
       "      <th>R32</th>\n",
       "      <th>R64</th>\n",
       "      <th>SF</th>\n",
       "    </tr>\n",
       "  </thead>\n",
       "  <tbody>\n",
       "    <tr>\n",
       "      <th>0</th>\n",
       "      <td>3</td>\n",
       "      <td>55.0</td>\n",
       "      <td>39.0</td>\n",
       "      <td>25.0</td>\n",
       "      <td>15.0</td>\n",
       "      <td>6.0</td>\n",
       "      <td>4.0</td>\n",
       "      <td>2.0</td>\n",
       "      <td>2.0</td>\n",
       "      <td>96.0</td>\n",
       "      <td>...</td>\n",
       "      <td>A</td>\n",
       "      <td>Adelaide</td>\n",
       "      <td>1</td>\n",
       "      <td>0</td>\n",
       "      <td>0</td>\n",
       "      <td>0</td>\n",
       "      <td>0</td>\n",
       "      <td>1</td>\n",
       "      <td>0</td>\n",
       "      <td>0</td>\n",
       "    </tr>\n",
       "    <tr>\n",
       "      <th>1</th>\n",
       "      <td>3</td>\n",
       "      <td>56.0</td>\n",
       "      <td>45.0</td>\n",
       "      <td>25.0</td>\n",
       "      <td>15.0</td>\n",
       "      <td>19.0</td>\n",
       "      <td>10.0</td>\n",
       "      <td>9.0</td>\n",
       "      <td>4.0</td>\n",
       "      <td>101.0</td>\n",
       "      <td>...</td>\n",
       "      <td>A</td>\n",
       "      <td>Adelaide</td>\n",
       "      <td>1</td>\n",
       "      <td>0</td>\n",
       "      <td>0</td>\n",
       "      <td>0</td>\n",
       "      <td>0</td>\n",
       "      <td>1</td>\n",
       "      <td>0</td>\n",
       "      <td>0</td>\n",
       "    </tr>\n",
       "    <tr>\n",
       "      <th>2</th>\n",
       "      <td>3</td>\n",
       "      <td>31.0</td>\n",
       "      <td>24.0</td>\n",
       "      <td>13.0</td>\n",
       "      <td>8.0</td>\n",
       "      <td>6.0</td>\n",
       "      <td>1.0</td>\n",
       "      <td>1.0</td>\n",
       "      <td>1.0</td>\n",
       "      <td>54.0</td>\n",
       "      <td>...</td>\n",
       "      <td>A</td>\n",
       "      <td>Adelaide</td>\n",
       "      <td>1</td>\n",
       "      <td>0</td>\n",
       "      <td>0</td>\n",
       "      <td>0</td>\n",
       "      <td>0</td>\n",
       "      <td>1</td>\n",
       "      <td>0</td>\n",
       "      <td>0</td>\n",
       "    </tr>\n",
       "    <tr>\n",
       "      <th>3</th>\n",
       "      <td>3</td>\n",
       "      <td>40.0</td>\n",
       "      <td>30.0</td>\n",
       "      <td>14.0</td>\n",
       "      <td>9.0</td>\n",
       "      <td>2.0</td>\n",
       "      <td>3.0</td>\n",
       "      <td>3.0</td>\n",
       "      <td>0.0</td>\n",
       "      <td>60.0</td>\n",
       "      <td>...</td>\n",
       "      <td>A</td>\n",
       "      <td>Adelaide</td>\n",
       "      <td>1</td>\n",
       "      <td>0</td>\n",
       "      <td>0</td>\n",
       "      <td>0</td>\n",
       "      <td>0</td>\n",
       "      <td>1</td>\n",
       "      <td>0</td>\n",
       "      <td>0</td>\n",
       "    </tr>\n",
       "    <tr>\n",
       "      <th>4</th>\n",
       "      <td>3</td>\n",
       "      <td>40.0</td>\n",
       "      <td>33.0</td>\n",
       "      <td>14.0</td>\n",
       "      <td>10.0</td>\n",
       "      <td>4.0</td>\n",
       "      <td>8.0</td>\n",
       "      <td>7.0</td>\n",
       "      <td>2.0</td>\n",
       "      <td>72.0</td>\n",
       "      <td>...</td>\n",
       "      <td>A</td>\n",
       "      <td>Adelaide</td>\n",
       "      <td>1</td>\n",
       "      <td>0</td>\n",
       "      <td>0</td>\n",
       "      <td>0</td>\n",
       "      <td>0</td>\n",
       "      <td>1</td>\n",
       "      <td>0</td>\n",
       "      <td>0</td>\n",
       "    </tr>\n",
       "    <tr>\n",
       "      <th>...</th>\n",
       "      <td>...</td>\n",
       "      <td>...</td>\n",
       "      <td>...</td>\n",
       "      <td>...</td>\n",
       "      <td>...</td>\n",
       "      <td>...</td>\n",
       "      <td>...</td>\n",
       "      <td>...</td>\n",
       "      <td>...</td>\n",
       "      <td>...</td>\n",
       "      <td>...</td>\n",
       "      <td>...</td>\n",
       "      <td>...</td>\n",
       "      <td>...</td>\n",
       "      <td>...</td>\n",
       "      <td>...</td>\n",
       "      <td>...</td>\n",
       "      <td>...</td>\n",
       "      <td>...</td>\n",
       "      <td>...</td>\n",
       "      <td>...</td>\n",
       "    </tr>\n",
       "    <tr>\n",
       "      <th>166815</th>\n",
       "      <td>3</td>\n",
       "      <td>54.0</td>\n",
       "      <td>43.0</td>\n",
       "      <td>16.0</td>\n",
       "      <td>15.0</td>\n",
       "      <td>13.0</td>\n",
       "      <td>5.0</td>\n",
       "      <td>3.0</td>\n",
       "      <td>1.0</td>\n",
       "      <td>83.0</td>\n",
       "      <td>...</td>\n",
       "      <td>A</td>\n",
       "      <td>Sao Paulo</td>\n",
       "      <td>0</td>\n",
       "      <td>0</td>\n",
       "      <td>1</td>\n",
       "      <td>0</td>\n",
       "      <td>0</td>\n",
       "      <td>0</td>\n",
       "      <td>0</td>\n",
       "      <td>0</td>\n",
       "    </tr>\n",
       "    <tr>\n",
       "      <th>166816</th>\n",
       "      <td>3</td>\n",
       "      <td>23.0</td>\n",
       "      <td>12.0</td>\n",
       "      <td>5.0</td>\n",
       "      <td>7.0</td>\n",
       "      <td>0.0</td>\n",
       "      <td>8.0</td>\n",
       "      <td>3.0</td>\n",
       "      <td>2.0</td>\n",
       "      <td>40.0</td>\n",
       "      <td>...</td>\n",
       "      <td>A</td>\n",
       "      <td>Sao Paulo</td>\n",
       "      <td>0</td>\n",
       "      <td>0</td>\n",
       "      <td>1</td>\n",
       "      <td>0</td>\n",
       "      <td>0</td>\n",
       "      <td>0</td>\n",
       "      <td>0</td>\n",
       "      <td>0</td>\n",
       "    </tr>\n",
       "    <tr>\n",
       "      <th>166817</th>\n",
       "      <td>3</td>\n",
       "      <td>56.0</td>\n",
       "      <td>39.0</td>\n",
       "      <td>13.0</td>\n",
       "      <td>12.0</td>\n",
       "      <td>5.0</td>\n",
       "      <td>5.0</td>\n",
       "      <td>3.0</td>\n",
       "      <td>1.0</td>\n",
       "      <td>80.0</td>\n",
       "      <td>...</td>\n",
       "      <td>A</td>\n",
       "      <td>Sao Paulo</td>\n",
       "      <td>0</td>\n",
       "      <td>0</td>\n",
       "      <td>0</td>\n",
       "      <td>0</td>\n",
       "      <td>0</td>\n",
       "      <td>0</td>\n",
       "      <td>0</td>\n",
       "      <td>1</td>\n",
       "    </tr>\n",
       "    <tr>\n",
       "      <th>166818</th>\n",
       "      <td>3</td>\n",
       "      <td>34.0</td>\n",
       "      <td>24.0</td>\n",
       "      <td>11.0</td>\n",
       "      <td>10.0</td>\n",
       "      <td>5.0</td>\n",
       "      <td>6.0</td>\n",
       "      <td>3.0</td>\n",
       "      <td>0.0</td>\n",
       "      <td>57.0</td>\n",
       "      <td>...</td>\n",
       "      <td>A</td>\n",
       "      <td>Sao Paulo</td>\n",
       "      <td>0</td>\n",
       "      <td>0</td>\n",
       "      <td>0</td>\n",
       "      <td>0</td>\n",
       "      <td>0</td>\n",
       "      <td>0</td>\n",
       "      <td>0</td>\n",
       "      <td>1</td>\n",
       "    </tr>\n",
       "    <tr>\n",
       "      <th>166819</th>\n",
       "      <td>3</td>\n",
       "      <td>35.0</td>\n",
       "      <td>26.0</td>\n",
       "      <td>9.0</td>\n",
       "      <td>11.0</td>\n",
       "      <td>5.0</td>\n",
       "      <td>7.0</td>\n",
       "      <td>3.0</td>\n",
       "      <td>4.0</td>\n",
       "      <td>65.0</td>\n",
       "      <td>...</td>\n",
       "      <td>A</td>\n",
       "      <td>Sao Paulo</td>\n",
       "      <td>0</td>\n",
       "      <td>1</td>\n",
       "      <td>0</td>\n",
       "      <td>0</td>\n",
       "      <td>0</td>\n",
       "      <td>0</td>\n",
       "      <td>0</td>\n",
       "      <td>0</td>\n",
       "    </tr>\n",
       "  </tbody>\n",
       "</table>\n",
       "<p>163734 rows × 34 columns</p>\n",
       "</div>"
      ],
      "text/plain": [
       "        best_of  w_1stIn  w_1stWon  w_2ndWon  w_SvGms  w_ace  w_bpFaced  \\\n",
       "0             3     55.0      39.0      25.0     15.0    6.0        4.0   \n",
       "1             3     56.0      45.0      25.0     15.0   19.0       10.0   \n",
       "2             3     31.0      24.0      13.0      8.0    6.0        1.0   \n",
       "3             3     40.0      30.0      14.0      9.0    2.0        3.0   \n",
       "4             3     40.0      33.0      14.0     10.0    4.0        8.0   \n",
       "...         ...      ...       ...       ...      ...    ...        ...   \n",
       "166815        3     54.0      43.0      16.0     15.0   13.0        5.0   \n",
       "166816        3     23.0      12.0       5.0      7.0    0.0        8.0   \n",
       "166817        3     56.0      39.0      13.0     12.0    5.0        5.0   \n",
       "166818        3     34.0      24.0      11.0     10.0    5.0        6.0   \n",
       "166819        3     35.0      26.0       9.0     11.0    5.0        7.0   \n",
       "\n",
       "        w_bpSaved  w_df  w_svpt  ...  tourney_level tourney_name  label  F QF  \\\n",
       "0             2.0   2.0    96.0  ...              A     Adelaide      1  0  0   \n",
       "1             9.0   4.0   101.0  ...              A     Adelaide      1  0  0   \n",
       "2             1.0   1.0    54.0  ...              A     Adelaide      1  0  0   \n",
       "3             3.0   0.0    60.0  ...              A     Adelaide      1  0  0   \n",
       "4             7.0   2.0    72.0  ...              A     Adelaide      1  0  0   \n",
       "...           ...   ...     ...  ...            ...          ...    ... .. ..   \n",
       "166815        3.0   1.0    83.0  ...              A    Sao Paulo      0  0  1   \n",
       "166816        3.0   2.0    40.0  ...              A    Sao Paulo      0  0  1   \n",
       "166817        3.0   1.0    80.0  ...              A    Sao Paulo      0  0  0   \n",
       "166818        3.0   0.0    57.0  ...              A    Sao Paulo      0  0  0   \n",
       "166819        3.0   4.0    65.0  ...              A    Sao Paulo      0  1  0   \n",
       "\n",
       "       R128  R16  R32  R64 SF  \n",
       "0         0    0    1    0  0  \n",
       "1         0    0    1    0  0  \n",
       "2         0    0    1    0  0  \n",
       "3         0    0    1    0  0  \n",
       "4         0    0    1    0  0  \n",
       "...     ...  ...  ...  ... ..  \n",
       "166815    0    0    0    0  0  \n",
       "166816    0    0    0    0  0  \n",
       "166817    0    0    0    0  1  \n",
       "166818    0    0    0    0  1  \n",
       "166819    0    0    0    0  0  \n",
       "\n",
       "[163734 rows x 34 columns]"
      ]
     },
     "execution_count": 56,
     "metadata": {},
     "output_type": "execute_result"
    }
   ],
   "source": [
    "player_df"
   ]
  },
  {
   "cell_type": "code",
   "execution_count": 57,
   "metadata": {},
   "outputs": [],
   "source": [
    "player_df.drop([\"score\"], axis=1, inplace=True)"
   ]
  },
  {
   "cell_type": "markdown",
   "metadata": {},
   "source": [
    "### surface"
   ]
  },
  {
   "cell_type": "code",
   "execution_count": 58,
   "metadata": {},
   "outputs": [
    {
     "data": {
      "text/plain": [
       "Hard      81360\n",
       "Clay      53846\n",
       "Grass     16974\n",
       "Carpet    11554\n",
       "Name: surface, dtype: int64"
      ]
     },
     "execution_count": 58,
     "metadata": {},
     "output_type": "execute_result"
    }
   ],
   "source": [
    "player_df[\"surface\"].value_counts()"
   ]
  },
  {
   "cell_type": "code",
   "execution_count": 59,
   "metadata": {},
   "outputs": [],
   "source": [
    "df_surface = pd.get_dummies(player_df['surface'])\n",
    "player_df = pd.concat([player_df,df_surface],  sort = False, axis = 1)"
   ]
  },
  {
   "cell_type": "markdown",
   "metadata": {},
   "source": [
    "### tourney_date, tourney_id and tourney_name"
   ]
  },
  {
   "cell_type": "code",
   "execution_count": 60,
   "metadata": {},
   "outputs": [],
   "source": [
    "player_df.drop([\"tourney_date\"], axis=1, inplace=True)\n",
    "player_df.drop([\"tourney_id\"], axis=1, inplace=True)\n",
    "player_df.drop([\"tourney_name\"], axis=1, inplace=True)"
   ]
  },
  {
   "cell_type": "markdown",
   "metadata": {},
   "source": [
    "### tourney_level"
   ]
  },
  {
   "cell_type": "code",
   "execution_count": 61,
   "metadata": {},
   "outputs": [
    {
     "data": {
      "text/plain": [
       "A    104580\n",
       "M     30918\n",
       "G     28078\n",
       "F       158\n",
       "Name: tourney_level, dtype: int64"
      ]
     },
     "execution_count": 61,
     "metadata": {},
     "output_type": "execute_result"
    }
   ],
   "source": [
    "player_df[\"tourney_level\"].value_counts()"
   ]
  },
  {
   "cell_type": "code",
   "execution_count": 62,
   "metadata": {},
   "outputs": [],
   "source": [
    "df_tourn = pd.get_dummies(player_df['tourney_level'])\n",
    "player_df = pd.concat([player_df,df_tourn],  sort = False, axis = 1)"
   ]
  },
  {
   "cell_type": "markdown",
   "metadata": {},
   "source": [
    "### Winner_hand, winner_id, winner_name and winner_ioc"
   ]
  },
  {
   "cell_type": "code",
   "execution_count": 63,
   "metadata": {},
   "outputs": [
    {
     "data": {
      "text/plain": [
       "R    139355\n",
       "L     23975\n",
       "U       404\n",
       "Name: winner_hand, dtype: int64"
      ]
     },
     "execution_count": 63,
     "metadata": {},
     "output_type": "execute_result"
    }
   ],
   "source": [
    "player_df[\"winner_hand\"].value_counts()"
   ]
  },
  {
   "cell_type": "code",
   "execution_count": 64,
   "metadata": {},
   "outputs": [],
   "source": [
    "df_winner_hand = pd.get_dummies(player_df['winner_hand'])\n",
    "player_df = pd.concat([player_df,df_winner_hand],  sort = False, axis = 1)"
   ]
  },
  {
   "cell_type": "code",
   "execution_count": 65,
   "metadata": {},
   "outputs": [],
   "source": [
    "player_df.drop([\"winner_id\"], axis=1, inplace=True)\n",
    "player_df.drop([\"winner_name\"], axis=1, inplace=True)"
   ]
  },
  {
   "cell_type": "code",
   "execution_count": 66,
   "metadata": {},
   "outputs": [
    {
     "data": {
      "text/plain": [
       "ESP    19834\n",
       "USA    18647\n",
       "FRA    14620\n",
       "GER    11130\n",
       "ARG     9079\n",
       "       ...  \n",
       "MKD        3\n",
       "IRI        2\n",
       "AZE        1\n",
       "VIE        1\n",
       "TOG        1\n",
       "Name: winner_ioc, Length: 93, dtype: int64"
      ]
     },
     "execution_count": 66,
     "metadata": {},
     "output_type": "execute_result"
    }
   ],
   "source": [
    "player_df[\"winner_ioc\"].value_counts()"
   ]
  },
  {
   "cell_type": "code",
   "execution_count": 67,
   "metadata": {},
   "outputs": [],
   "source": [
    "lb_encoder = LabelEncoder()\n",
    "player_df['winner_ioc'] = lb_encoder.fit_transform(player_df['winner_ioc'].astype(str))"
   ]
  },
  {
   "cell_type": "code",
   "execution_count": 68,
   "metadata": {},
   "outputs": [
    {
     "data": {
      "text/plain": [
       "28    19834\n",
       "87    18647\n",
       "31    14620\n",
       "34    11130\n",
       "1      9079\n",
       "      ...  \n",
       "57        3\n",
       "41        2\n",
       "80        1\n",
       "5         1\n",
       "90        1\n",
       "Name: winner_ioc, Length: 93, dtype: int64"
      ]
     },
     "execution_count": 68,
     "metadata": {},
     "output_type": "execute_result"
    }
   ],
   "source": [
    "player_df[\"winner_ioc\"].value_counts()"
   ]
  },
  {
   "cell_type": "code",
   "execution_count": 69,
   "metadata": {},
   "outputs": [],
   "source": [
    "removeCat = ['round','winner_hand','tourney_level','surface']"
   ]
  },
  {
   "cell_type": "code",
   "execution_count": 70,
   "metadata": {},
   "outputs": [],
   "source": [
    "player_df.drop(removeCat,axis = 1,inplace = True)"
   ]
  },
  {
   "cell_type": "markdown",
   "metadata": {},
   "source": [
    "# Modeling"
   ]
  },
  {
   "cell_type": "code",
   "execution_count": 71,
   "metadata": {},
   "outputs": [
    {
     "data": {
      "text/plain": [
       "1    81867\n",
       "0    81867\n",
       "Name: label, dtype: int64"
      ]
     },
     "execution_count": 71,
     "metadata": {},
     "output_type": "execute_result"
    }
   ],
   "source": [
    "player_df['label'].value_counts() # Balanced data --- we can use accuracy metric "
   ]
  },
  {
   "cell_type": "code",
   "execution_count": 72,
   "metadata": {},
   "outputs": [
    {
     "data": {
      "text/plain": [
       "Index(['best_of', 'w_1stIn', 'w_1stWon', 'w_2ndWon', 'w_SvGms', 'w_ace',\n",
       "       'w_bpFaced', 'w_bpSaved', 'w_df', 'w_svpt', 'winner_age', 'winner_ht',\n",
       "       'winner_ioc', 'winner_rank', 'winner_rank_points', 'minutes', 'label',\n",
       "       'F', 'QF', 'R128', 'R16', 'R32', 'R64', 'SF', 'Carpet', 'Clay', 'Grass',\n",
       "       'Hard', 'A', 'F', 'G', 'M', 'L', 'R', 'U'],\n",
       "      dtype='object')"
      ]
     },
     "execution_count": 72,
     "metadata": {},
     "output_type": "execute_result"
    }
   ],
   "source": [
    "player_df.columns"
   ]
  },
  {
   "cell_type": "code",
   "execution_count": 73,
   "metadata": {},
   "outputs": [],
   "source": [
    "X = player_df.drop(['label','winner_rank','winner_rank_points'],axis=1)"
   ]
  },
  {
   "cell_type": "code",
   "execution_count": 74,
   "metadata": {},
   "outputs": [
    {
     "data": {
      "text/plain": [
       "Index(['best_of', 'w_1stIn', 'w_1stWon', 'w_2ndWon', 'w_SvGms', 'w_ace',\n",
       "       'w_bpFaced', 'w_bpSaved', 'w_df', 'w_svpt', 'winner_age', 'winner_ht',\n",
       "       'winner_ioc', 'minutes', 'F', 'QF', 'R128', 'R16', 'R32', 'R64', 'SF',\n",
       "       'Carpet', 'Clay', 'Grass', 'Hard', 'A', 'F', 'G', 'M', 'L', 'R', 'U'],\n",
       "      dtype='object')"
      ]
     },
     "execution_count": 74,
     "metadata": {},
     "output_type": "execute_result"
    }
   ],
   "source": [
    "X.columns"
   ]
  },
  {
   "cell_type": "code",
   "execution_count": 75,
   "metadata": {},
   "outputs": [],
   "source": [
    "y = player_df[\"label\"]"
   ]
  },
  {
   "cell_type": "code",
   "execution_count": 76,
   "metadata": {},
   "outputs": [
    {
     "data": {
      "text/plain": [
       "(130987, 32)"
      ]
     },
     "metadata": {},
     "output_type": "display_data"
    },
    {
     "data": {
      "text/plain": [
       "(130987,)"
      ]
     },
     "metadata": {},
     "output_type": "display_data"
    }
   ],
   "source": [
    "#Split train/test 90%-10%\n",
    "X_train, X_test, y_train, y_test = train_test_split(X,y,test_size=0.2, stratify = y) #10%\n",
    "#split raw data\n",
    "display(X_train.shape)\n",
    "display(y_train.shape)"
   ]
  },
  {
   "cell_type": "markdown",
   "metadata": {},
   "source": [
    "### XGBoost"
   ]
  },
  {
   "cell_type": "code",
   "execution_count": 77,
   "metadata": {},
   "outputs": [
    {
     "name": "stdout",
     "output_type": "stream",
     "text": [
      "Fitting 2 folds for each of 1 candidates, totalling 2 fits\n"
     ]
    },
    {
     "name": "stderr",
     "output_type": "stream",
     "text": [
      "[Parallel(n_jobs=-1)]: Using backend LokyBackend with 8 concurrent workers.\n",
      "[Parallel(n_jobs=-1)]: Done   2 out of   2 | elapsed:   46.3s remaining:    0.0s\n",
      "[Parallel(n_jobs=-1)]: Done   2 out of   2 | elapsed:   46.3s finished\n"
     ]
    },
    {
     "data": {
      "text/plain": [
       "GridSearchCV(cv=2, error_score=nan,\n",
       "             estimator=Pipeline(memory=None,\n",
       "                                steps=[('scaler',\n",
       "                                        MinMaxScaler(copy=True,\n",
       "                                                     feature_range=(0, 1))),\n",
       "                                       ('xgb',\n",
       "                                        XGBClassifier(base_score=None,\n",
       "                                                      booster=None,\n",
       "                                                      colsample_bylevel=None,\n",
       "                                                      colsample_bynode=None,\n",
       "                                                      colsample_bytree=None,\n",
       "                                                      gamma=None, gpu_id=None,\n",
       "                                                      importance_type='gain',\n",
       "                                                      interaction_constraints=None,\n",
       "                                                      learning_rate=None,\n",
       "                                                      max_delta_st...\n",
       "                                                      subsample=None,\n",
       "                                                      tree_method=None,\n",
       "                                                      validate_parameters=False,\n",
       "                                                      verbosity=None))],\n",
       "                                verbose=False),\n",
       "             iid='deprecated', n_jobs=-1,\n",
       "             param_grid={'xgb__colsample_bytree': [0.7],\n",
       "                         'xgb__learning_rate': [0.1], 'xgb__max_depth': [4],\n",
       "                         'xgb__min_child_weight': [0.01],\n",
       "                         'xgb__subsample': [0.6]},\n",
       "             pre_dispatch='2*n_jobs', refit=True, return_train_score=False,\n",
       "             scoring='accuracy', verbose=1)"
      ]
     },
     "execution_count": 77,
     "metadata": {},
     "output_type": "execute_result"
    }
   ],
   "source": [
    "pipeline = Pipeline([\n",
    "    ('scaler',MinMaxScaler()),\n",
    "    ('xgb', XGBClassifier())\n",
    "])\n",
    "\n",
    "\n",
    "param_grid = {\n",
    "    'xgb__max_depth': [4],\n",
    "    'xgb__min_child_weight':[0.01],\n",
    "    'xgb__colsample_bytree':[0.7],\n",
    "    'xgb__subsample':[0.6],\n",
    "    'xgb__learning_rate':[0.1]\n",
    "}\n",
    "\n",
    "cv = 2\n",
    "\n",
    "xgb_grid = GridSearchCV(pipeline, param_grid = param_grid, cv = cv, verbose=1, n_jobs = -1,scoring='accuracy')\n",
    "\n",
    "xgb_grid.fit(X_train, y_train)"
   ]
  },
  {
   "cell_type": "code",
   "execution_count": 78,
   "metadata": {},
   "outputs": [
    {
     "data": {
      "text/plain": [
       "0.8022475272012157"
      ]
     },
     "execution_count": 78,
     "metadata": {},
     "output_type": "execute_result"
    }
   ],
   "source": [
    "xgb_grid.best_score_"
   ]
  },
  {
   "cell_type": "code",
   "execution_count": 79,
   "metadata": {},
   "outputs": [],
   "source": [
    "y_pred = xgb_grid.predict(X_test)"
   ]
  },
  {
   "cell_type": "code",
   "execution_count": 80,
   "metadata": {},
   "outputs": [
    {
     "data": {
      "text/plain": [
       "0.7975387058356491"
      ]
     },
     "execution_count": 80,
     "metadata": {},
     "output_type": "execute_result"
    }
   ],
   "source": [
    "from sklearn.metrics import accuracy_score\n",
    "accuracy_score(y_test, y_pred)"
   ]
  },
  {
   "cell_type": "code",
   "execution_count": 82,
   "metadata": {},
   "outputs": [],
   "source": [
    "def plot_confusion_matrix(y_true, y_pred, classes,\n",
    "                          normalize=False,\n",
    "                          title=None,\n",
    "                          cmap=plt.cm.Blues):\n",
    "    \"\"\"\n",
    "    This function prints and plots the confusion matrix.\n",
    "    Normalization can be applied by setting `normalize=True`.\n",
    "    \"\"\"\n",
    "    if not title:\n",
    "        if normalize:\n",
    "            title = 'Normalized confusion matrix'\n",
    "        else:\n",
    "            title = 'Confusion matrix, without normalization'\n",
    "\n",
    "    # Compute confusion matrix\n",
    "    cm = confusion_matrix(y_true, y_pred)\n",
    "    # Only use the labels that appear in the data\n",
    "    classes = [\"0\", \"1\"]\n",
    "    if normalize:\n",
    "        cm = cm.astype('float') / cm.sum(axis=1)[:, np.newaxis]\n",
    "        print(\"Normalized confusion matrix\")\n",
    "    else:\n",
    "        print('Confusion matrix, without normalization')\n",
    "\n",
    "    print(cm)\n",
    "\n",
    "    fig, ax = plt.subplots()\n",
    "    im = ax.imshow(cm, interpolation='nearest', cmap=cmap)\n",
    "    ax.figure.colorbar(im, ax=ax)\n",
    "    # We want to show all ticks...\n",
    "    ax.set(xticks=np.arange(cm.shape[1]),\n",
    "           yticks=np.arange(cm.shape[0]),\n",
    "           # ... and label them with the respective list entries\n",
    "           xticklabels=classes, yticklabels=classes,\n",
    "           title=title,\n",
    "           ylabel='True label',\n",
    "           xlabel='Predicted label')\n",
    "\n",
    "    # Rotate the tick labels and set their alignment.\n",
    "    plt.setp(ax.get_xticklabels(), rotation=45, ha=\"right\",\n",
    "             rotation_mode=\"anchor\")\n",
    "\n",
    "    # Loop over data dimensions and create text annotations.\n",
    "    fmt = '.2f' if normalize else 'd'\n",
    "    thresh = cm.max() / 2.\n",
    "    for i in range(cm.shape[0]):\n",
    "        for j in range(cm.shape[1]):\n",
    "            ax.text(j, i, format(cm[i, j], fmt),\n",
    "                    ha=\"center\", va=\"center\",\n",
    "                    color=\"white\" if cm[i, j] > thresh else \"black\")\n",
    "    fig.tight_layout()\n",
    "    return ax"
   ]
  },
  {
   "cell_type": "code",
   "execution_count": 83,
   "metadata": {},
   "outputs": [
    {
     "name": "stdout",
     "output_type": "stream",
     "text": [
      "Confusion matrix, without normalization\n",
      "[[13280  3094]\n",
      " [ 3536 12837]]\n"
     ]
    },
    {
     "data": {
      "text/plain": [
       "<matplotlib.axes._subplots.AxesSubplot at 0x227d3454e80>"
      ]
     },
     "execution_count": 83,
     "metadata": {},
     "output_type": "execute_result"
    },
    {
     "data": {
      "image/png": "[encoded data removed]",
      "text/plain": [
       "<Figure size 432x288 with 2 Axes>"
      ]
     },
     "metadata": {
      "needs_background": "light"
     },
     "output_type": "display_data"
    }
   ],
   "source": [
    "# Plot non-normalized confusion matrix\n",
    "plot_confusion_matrix(y_test, y_pred, classes=[\"class_names\"],\n",
    "                      title='Confusion matrix XGBoost')"
   ]
  },
  {
   "cell_type": "code",
   "execution_count": 88,
   "metadata": {},
   "outputs": [
    {
     "data": {
      "text/plain": [
       "0.7975382934741438"
      ]
     },
     "execution_count": 88,
     "metadata": {},
     "output_type": "execute_result"
    }
   ],
   "source": [
    "from sklearn.metrics import roc_auc_score, roc_curve\n",
    "roc_auc_score(y_test, y_pred)"
   ]
  },
  {
   "cell_type": "code",
   "execution_count": 89,
   "metadata": {},
   "outputs": [
    {
     "data": {
      "image/png": "[encoded data removed]",
      "text/plain": [
       "<Figure size 432x288 with 1 Axes>"
      ]
     },
     "metadata": {
      "needs_background": "light"
     },
     "output_type": "display_data"
    }
   ],
   "source": [
    "y_pred_proba = xgb_grid.predict_proba(X_test)[::,1]\n",
    "fpr, tpr, _ = roc_curve(y_test,  y_pred_proba)\n",
    "auc = roc_auc_score(y_test, y_pred)\n",
    "plt.plot(fpr,tpr,label=\"Xgboost, auc=\"+str(auc))\n",
    "plt.legend(loc=4)\n",
    "plt.show()"
   ]
  },
  {
   "cell_type": "markdown",
   "metadata": {},
   "source": [
    "### Logistic Regression"
   ]
  },
  {
   "cell_type": "code",
   "execution_count": 90,
   "metadata": {},
   "outputs": [
    {
     "name": "stdout",
     "output_type": "stream",
     "text": [
      "Fitting 2 folds for each of 2 candidates, totalling 4 fits\n"
     ]
    },
    {
     "name": "stderr",
     "output_type": "stream",
     "text": [
      "[Parallel(n_jobs=-1)]: Using backend LokyBackend with 8 concurrent workers.\n",
      "[Parallel(n_jobs=-1)]: Done   4 out of   4 | elapsed:    5.4s remaining:    0.0s\n",
      "[Parallel(n_jobs=-1)]: Done   4 out of   4 | elapsed:    5.4s finished\n",
      "C:\\Users\\Neil\\Anaconda3\\lib\\site-packages\\sklearn\\linear_model\\_logistic.py:940: ConvergenceWarning: lbfgs failed to converge (status=1):\n",
      "STOP: TOTAL NO. of ITERATIONS REACHED LIMIT.\n",
      "\n",
      "Increase the number of iterations (max_iter) or scale the data as shown in:\n",
      "    https://scikit-learn.org/stable/modules/preprocessing.html\n",
      "Please also refer to the documentation for alternative solver options:\n",
      "    https://scikit-learn.org/stable/modules/linear_model.html#logistic-regression\n",
      "  extra_warning_msg=_LOGISTIC_SOLVER_CONVERGENCE_MSG)\n"
     ]
    },
    {
     "data": {
      "text/plain": [
       "GridSearchCV(cv=2, error_score=nan,\n",
       "             estimator=Pipeline(memory=None,\n",
       "                                steps=[('scaler',\n",
       "                                        MinMaxScaler(copy=True,\n",
       "                                                     feature_range=(0, 1))),\n",
       "                                       ('lr',\n",
       "                                        LogisticRegression(C=1.0,\n",
       "                                                           class_weight=None,\n",
       "                                                           dual=False,\n",
       "                                                           fit_intercept=True,\n",
       "                                                           intercept_scaling=1,\n",
       "                                                           l1_ratio=None,\n",
       "                                                           max_iter=100,\n",
       "                                                           multi_class='auto',\n",
       "                                                           n_jobs=None,\n",
       "                                                           penalty='l2',\n",
       "                                                           random_state=None,\n",
       "                                                           solver='lbfgs',\n",
       "                                                           tol=0.0001,\n",
       "                                                           verbose=0,\n",
       "                                                           warm_start=False))],\n",
       "                                verbose=False),\n",
       "             iid='deprecated', n_jobs=-1,\n",
       "             param_grid={'lr__C': [0.1], 'lr__penalty': ['l1', 'l2']},\n",
       "             pre_dispatch='2*n_jobs', refit=True, return_train_score=False,\n",
       "             scoring='accuracy', verbose=1)"
      ]
     },
     "execution_count": 90,
     "metadata": {},
     "output_type": "execute_result"
    }
   ],
   "source": [
    "pipeline = Pipeline([\n",
    "    ('scaler',MinMaxScaler()),\n",
    "    ('lr', LogisticRegression())\n",
    "])\n",
    "\n",
    "\n",
    "param_grid = {\n",
    "    'lr__penalty' : ['l1', 'l2'],\n",
    "    'lr__C' : [0.1]\n",
    "}\n",
    "\n",
    "cv = 2\n",
    "\n",
    "lr_grid = GridSearchCV(pipeline, param_grid = param_grid, cv = cv, verbose=1, n_jobs = -1,scoring='accuracy')\n",
    "\n",
    "lr_grid.fit(X_train, y_train)"
   ]
  },
  {
   "cell_type": "code",
   "execution_count": 91,
   "metadata": {},
   "outputs": [
    {
     "data": {
      "text/plain": [
       "0.7976134948758511"
      ]
     },
     "execution_count": 91,
     "metadata": {},
     "output_type": "execute_result"
    }
   ],
   "source": [
    "lr_grid.best_score_"
   ]
  },
  {
   "cell_type": "code",
   "execution_count": 92,
   "metadata": {},
   "outputs": [],
   "source": [
    "y_pred = lr_grid.predict(X_test)"
   ]
  },
  {
   "cell_type": "code",
   "execution_count": 93,
   "metadata": {},
   "outputs": [
    {
     "data": {
      "text/plain": [
       "0.7956759397807432"
      ]
     },
     "execution_count": 93,
     "metadata": {},
     "output_type": "execute_result"
    }
   ],
   "source": [
    "accuracy_score(y_test, y_pred)"
   ]
  },
  {
   "cell_type": "code",
   "execution_count": 95,
   "metadata": {},
   "outputs": [
    {
     "name": "stdout",
     "output_type": "stream",
     "text": [
      "Confusion matrix, without normalization\n",
      "[[12788  3586]\n",
      " [ 3105 13268]]\n"
     ]
    },
    {
     "data": {
      "text/plain": [
       "<matplotlib.axes._subplots.AxesSubplot at 0x227d1871390>"
      ]
     },
     "execution_count": 95,
     "metadata": {},
     "output_type": "execute_result"
    },
    {
     "data": {
      "image/png": "[encoded data removed]",
      "text/plain": [
       "<Figure size 432x288 with 2 Axes>"
      ]
     },
     "metadata": {
      "needs_background": "light"
     },
     "output_type": "display_data"
    }
   ],
   "source": [
    "# Plot non-normalized confusion matrix\n",
    "plot_confusion_matrix(y_test, y_pred, classes=[\"class_names\"],\n",
    "                      title='Confusion matrix Logistic Regression')"
   ]
  },
  {
   "cell_type": "code",
   "execution_count": 96,
   "metadata": {},
   "outputs": [
    {
     "data": {
      "text/plain": [
       "0.7956763881310941"
      ]
     },
     "execution_count": 96,
     "metadata": {},
     "output_type": "execute_result"
    }
   ],
   "source": [
    "from sklearn.metrics import roc_auc_score, roc_curve\n",
    "roc_auc_score(y_test, y_pred)"
   ]
  },
  {
   "cell_type": "code",
   "execution_count": 97,
   "metadata": {},
   "outputs": [
    {
     "data": {
      "image/png": "[encoded data removed]",
      "text/plain": [
       "<Figure size 432x288 with 1 Axes>"
      ]
     },
     "metadata": {
      "needs_background": "light"
     },
     "output_type": "display_data"
    }
   ],
   "source": [
    "y_pred_proba = lr_grid.predict_proba(X_test)[::,1]\n",
    "fpr, tpr, _ = roc_curve(y_test,  y_pred_proba)\n",
    "auc = roc_auc_score(y_test, y_pred)\n",
    "plt.plot(fpr,tpr,label=\"Logistic Regression, auc=\"+str(auc))\n",
    "plt.legend(loc=4)\n",
    "plt.show()"
   ]
  },
  {
   "cell_type": "markdown",
   "metadata": {},
   "source": [
    "# Further Work"
   ]
  },
  {
   "cell_type": "code",
   "execution_count": null,
   "metadata": {},
   "outputs": [],
   "source": []
  }
 ],
 "metadata": {
  "kernelspec": {
   "display_name": "Python 3",
   "language": "python",
   "name": "python3"
  },
  "language_info": {
   "codemirror_mode": {
    "name": "ipython",
    "version": 3
   },
   "file_extension": ".py",
   "mimetype": "text/x-python",
   "name": "python",
   "nbconvert_exporter": "python",
   "pygments_lexer": "ipython3",
   "version": "3.7.1"
  }
 },
 "nbformat": 4,
 "nbformat_minor": 2
}
